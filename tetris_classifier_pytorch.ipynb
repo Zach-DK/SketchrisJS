{
  "cells": [
    {
      "cell_type": "markdown",
      "metadata": {},
      "source": [
        "# Sketchris: Tetris Piece Classifier with PyTorch\n",
        "\n",
        "This notebook trains a CNN using PyTorch to classify hand-drawn Tetris pieces from the Sketchris dataset.\n",
        "\n",
        "## Dataset Overview\n",
        "- **7 Tetris piece types**: I, O, T, S, Z, J, L\n",
        "- **4 rotations each**: 0°, 90°, 180°, 270°\n",
        "- **Image format**: 128x128 grayscale PNG\n",
        "- **Data source**: Hand-drawn sketches collected via data collector tool"
      ]
    },
    {
      "cell_type": "code",
      "execution_count": 3,
      "metadata": {},
      "outputs": [
        {
          "name": "stdout",
          "output_type": "stream",
          "text": [
            "Using device: cuda\n",
            "PyTorch version: 2.8.0+cu128\n",
            "GPU: NVIDIA GeForce RTX 4070 SUPER\n",
            "GPU Memory: 12.9 GB\n"
          ]
        }
      ],
      "source": [
        "# Import required libraries\n",
        "import os\n",
        "import numpy as np\n",
        "import pandas as pd\n",
        "import matplotlib.pyplot as plt\n",
        "import seaborn as sns\n",
        "from PIL import Image\n",
        "import random\n",
        "from collections import defaultdict, Counter\n",
        "from tqdm import tqdm\n",
        "\n",
        "# PyTorch libraries\n",
        "import torch\n",
        "import torch.nn as nn\n",
        "import torch.nn.functional as F\n",
        "import torch.optim as optim\n",
        "from torch.utils.data import Dataset, DataLoader, random_split\n",
        "import torchvision.transforms as transforms\n",
        "from torch.optim.lr_scheduler import ReduceLROnPlateau\n",
        "\n",
        "# Sklearn for metrics\n",
        "from sklearn.metrics import classification_report, confusion_matrix\n",
        "from sklearn.preprocessing import LabelEncoder\n",
        "\n",
        "# Set random seeds for reproducibility\n",
        "#random.seed(42)\n",
        "#np.random.seed(42)\n",
        "#torch.manual_seed(42)\n",
        "if torch.cuda.is_available():\n",
        "    torch.cuda.manual_seed(42)\n",
        "\n",
        "# Check device\n",
        "device = torch.device('cuda' if torch.cuda.is_available() else 'cpu')\n",
        "print(f\"Using device: {device}\")\n",
        "print(f\"PyTorch version: {torch.__version__}\")\n",
        "if torch.cuda.is_available():\n",
        "    print(f\"GPU: {torch.cuda.get_device_name(0)}\")\n",
        "    print(f\"GPU Memory: {torch.cuda.get_device_properties(0).total_memory / 1e9:.1f} GB\")\n"
      ]
    },
    {
      "cell_type": "markdown",
      "metadata": {},
      "source": [
        "## 1. Dataset Loading and Exploration\n"
      ]
    },
    {
      "cell_type": "code",
      "execution_count": 4,
      "metadata": {},
      "outputs": [
        {
          "name": "stdout",
          "output_type": "stream",
          "text": [
            "Scanning dataset...\n",
            "I_piece: 92 images\n",
            "O_piece: 88 images\n",
            "T_piece: 83 images\n",
            "S_piece: 78 images\n",
            "Z_piece: 85 images\n",
            "J_piece: 86 images\n",
            "L_piece: 83 images\n",
            "\n",
            "Dataset summary:\n",
            "Total images: 595\n",
            "Unique piece types: 7\n",
            "Unique rotations: [0, 90, 180, 270]\n",
            "\n",
            "Class mapping:\n",
            "  0: I Piece\n",
            "  1: J Piece\n",
            "  2: L Piece\n",
            "  3: O Piece\n",
            "  4: S Piece\n",
            "  5: T Piece\n",
            "  6: Z Piece\n"
          ]
        }
      ],
      "source": [
        "# Dataset configuration\n",
        "DATASET_DIR = \"dataset\"\n",
        "IMAGE_SIZE = 128\n",
        "PIECE_TYPES = ['I_piece', 'O_piece', 'T_piece', 'S_piece', 'Z_piece', 'J_piece', 'L_piece']\n",
        "\n",
        "def load_dataset_info():\n",
        "    \"\"\"Load dataset information without loading images into memory\"\"\"\n",
        "    image_paths = []\n",
        "    labels = []\n",
        "    rotations = []\n",
        "    \n",
        "    print(\"Scanning dataset...\")\n",
        "    \n",
        "    for piece_type in PIECE_TYPES:\n",
        "        piece_dir = os.path.join(DATASET_DIR, piece_type)\n",
        "        \n",
        "        if not os.path.exists(piece_dir):\n",
        "            print(f\"Warning: {piece_dir} not found\")\n",
        "            continue\n",
        "            \n",
        "        piece_files = [f for f in os.listdir(piece_dir) if f.endswith('.png')]\n",
        "        print(f\"{piece_type}: {len(piece_files)} images\")\n",
        "        \n",
        "        for filename in piece_files:\n",
        "            filepath = os.path.join(piece_dir, filename)\n",
        "            \n",
        "            image_paths.append(filepath)\n",
        "            labels.append(piece_type)\n",
        "            \n",
        "            # Extract rotation from filename\n",
        "            if '_rot' in filename:\n",
        "                rot_part = filename.split('_rot')[1].split('_')[0]\n",
        "                rotations.append(int(rot_part))\n",
        "            else:\n",
        "                rotations.append(0)\n",
        "    \n",
        "    return image_paths, labels, rotations\n",
        "\n",
        "# Load dataset information\n",
        "image_paths, labels, rotations = load_dataset_info()\n",
        "\n",
        "print(f\"\\nDataset summary:\")\n",
        "print(f\"Total images: {len(image_paths)}\")\n",
        "print(f\"Unique piece types: {len(set(labels))}\")\n",
        "print(f\"Unique rotations: {sorted(set(rotations))}\")\n",
        "\n",
        "# Create label encoder\n",
        "label_encoder = LabelEncoder()\n",
        "encoded_labels = label_encoder.fit_transform(labels)\n",
        "num_classes = len(label_encoder.classes_)\n",
        "\n",
        "print(f\"\\nClass mapping:\")\n",
        "for i, class_name in enumerate(label_encoder.classes_):\n",
        "    print(f\"  {i}: {class_name.replace('_', ' ').title()}\")\n"
      ]
    },
    {
      "cell_type": "code",
      "execution_count": 5,
      "metadata": {},
      "outputs": [
        {
          "name": "stdout",
          "output_type": "stream",
          "text": [
            "=== DATASET STATISTICS ===\n",
            "\\nImages per piece type:\n",
            "  I Piece: 92\n",
            "  J Piece: 86\n",
            "  L Piece: 83\n",
            "  O Piece: 88\n",
            "  S Piece: 78\n",
            "  T Piece: 83\n",
            "  Z Piece: 85\n",
            "\\nImages per rotation:\n",
            "  0°: 207\n",
            "  90°: 130\n",
            "  180°: 137\n",
            "  270°: 121\n"
          ]
        },
        {
          "data": {
            "image/png": "[encoded data removed]",
            "text/plain": [
              "<Figure size 1500x600 with 2 Axes>"
            ]
          },
          "metadata": {},
          "output_type": "display_data"
        }
      ],
      "source": [
        "# Dataset statistics and visualization\n",
        "print(\"=== DATASET STATISTICS ===\")\n",
        "\n",
        "# Count by piece type\n",
        "piece_counts = Counter(labels)\n",
        "print(\"\\\\nImages per piece type:\")\n",
        "for piece, count in sorted(piece_counts.items()):\n",
        "    print(f\"  {piece.replace('_', ' ').title()}: {count}\")\n",
        "\n",
        "# Count by rotation\n",
        "rotation_counts = Counter(rotations)\n",
        "print(\"\\\\nImages per rotation:\")\n",
        "for rotation, count in sorted(rotation_counts.items()):\n",
        "    print(f\"  {rotation}°: {count}\")\n",
        "\n",
        "# Visualize dataset distribution\n",
        "fig, axes = plt.subplots(1, 2, figsize=(15, 6))\n",
        "\n",
        "# Piece type distribution\n",
        "piece_counts_df = pd.Series(piece_counts).sort_index()\n",
        "axes[0].bar(range(len(piece_counts_df)), piece_counts_df.values, color='skyblue')\n",
        "axes[0].set_title('Images per Piece Type')\n",
        "axes[0].set_xlabel('Piece Type')\n",
        "axes[0].set_ylabel('Count')\n",
        "axes[0].set_xticks(range(len(piece_counts_df)))\n",
        "axes[0].set_xticklabels([p.replace('_', '\\\\n') for p in piece_counts_df.index], rotation=45)\n",
        "\n",
        "# Rotation distribution\n",
        "rotation_counts_df = pd.Series(rotation_counts).sort_index()\n",
        "axes[1].bar(rotation_counts_df.index, rotation_counts_df.values, color='lightcoral')\n",
        "axes[1].set_title('Images per Rotation')\n",
        "axes[1].set_xlabel('Rotation (degrees)')\n",
        "axes[1].set_ylabel('Count')\n",
        "\n",
        "plt.tight_layout()\n",
        "plt.show()\n"
      ]
    },
    {
      "cell_type": "markdown",
      "metadata": {},
      "source": [
        "## 2. PyTorch Dataset and DataLoaders\n"
      ]
    },
    {
      "cell_type": "code",
      "execution_count": 6,
      "metadata": {},
      "outputs": [],
      "source": [
        "class TetrisPieceDataset(Dataset):\n",
        "    \"\"\"Custom PyTorch Dataset for Tetris pieces\"\"\"\n",
        "    \n",
        "    def __init__(self, image_paths, labels, transform=None):\n",
        "        self.image_paths = image_paths\n",
        "        self.labels = labels\n",
        "        self.transform = transform\n",
        "    \n",
        "    def __len__(self):\n",
        "        return len(self.image_paths)\n",
        "    \n",
        "    def __getitem__(self, idx):\n",
        "        # Load image\n",
        "        image = Image.open(self.image_paths[idx]).convert('L')\n",
        "        \n",
        "        # Apply transforms\n",
        "        if self.transform:\n",
        "            image = self.transform(image)\n",
        "        \n",
        "        # Convert label to tensor\n",
        "        label = torch.tensor(self.labels[idx], dtype=torch.long)\n",
        "        \n",
        "        return image, label\n"
      ]
    },
    {
      "cell_type": "code",
      "execution_count": 7,
      "metadata": {},
      "outputs": [
        {
          "name": "stdout",
          "output_type": "stream",
          "text": [
            "Dataset split:\n",
            "  Training: 416 samples\n",
            "  Validation: 89 samples\n",
            "  Test: 90 samples\n"
          ]
        }
      ],
      "source": [
        "# Define transforms with MORE aggressive augmentation for small dataset\n",
        "train_transform = transforms.Compose([\n",
        "    transforms.Resize((IMAGE_SIZE, IMAGE_SIZE)),\n",
        "    transforms.ToTensor(),\n",
        "    # More aggressive augmentation for small datasets\n",
        "    transforms.RandomRotation(degrees=15),\n",
        "    transforms.RandomAffine(degrees=0, translate=(0.15, 0.15), scale=(0.8, 1.2)),\n",
        "    transforms.RandomPerspective(distortion_scale=0.2, p=0.3),\n",
        "    transforms.GaussianBlur(kernel_size=3, sigma=(0.1, 0.5)),\n",
        "    # Normalize to improve convergence\n",
        "    transforms.Normalize(mean=[0.5], std=[0.5])  # Normalize to [-1, 1]\n",
        "])\n",
        "\n",
        "val_test_transform = transforms.Compose([\n",
        "    transforms.Resize((IMAGE_SIZE, IMAGE_SIZE)),\n",
        "    transforms.ToTensor(),\n",
        "    transforms.Normalize(mean=[0.5], std=[0.5])  # Same normalization as training\n",
        "])\n",
        "\n",
        "# Split data indices first\n",
        "from sklearn.model_selection import train_test_split\n",
        "\n",
        "# First split: train vs temp (val+test)\n",
        "train_indices, temp_indices = train_test_split(\n",
        "    range(len(image_paths)), test_size=0.3, random_state=41, \n",
        "    stratify=encoded_labels\n",
        ")\n",
        "\n",
        "# Second split: val vs test\n",
        "val_indices, test_indices = train_test_split(\n",
        "    temp_indices, test_size=0.5, random_state=42,\n",
        "    stratify=[encoded_labels[i] for i in temp_indices]\n",
        ")\n",
        "\n",
        "# Create separate datasets with appropriate transforms\n",
        "train_dataset = TetrisPieceDataset(\n",
        "    [image_paths[i] for i in train_indices],\n",
        "    [encoded_labels[i] for i in train_indices],\n",
        "    transform=train_transform\n",
        ")\n",
        "\n",
        "val_dataset = TetrisPieceDataset(\n",
        "    [image_paths[i] for i in val_indices],\n",
        "    [encoded_labels[i] for i in val_indices],\n",
        "    transform=val_test_transform\n",
        ")\n",
        "\n",
        "test_dataset = TetrisPieceDataset(\n",
        "    [image_paths[i] for i in test_indices],\n",
        "    [encoded_labels[i] for i in test_indices],\n",
        "    transform=val_test_transform\n",
        ")\n",
        "\n",
        "print(f\"Dataset split:\")\n",
        "print(f\"  Training: {len(train_dataset)} samples\")\n",
        "print(f\"  Validation: {len(val_dataset)} samples\") \n",
        "print(f\"  Test: {len(test_dataset)} samples\")\n"
      ]
    },
    {
      "cell_type": "code",
      "execution_count": 8,
      "metadata": {},
      "outputs": [
        {
          "name": "stdout",
          "output_type": "stream",
          "text": [
            "DataLoaders created:\n",
            "  Batch size: 32\n",
            "  Training batches: 13\n",
            "  Validation batches: 3\n",
            "  Test batches: 3\n"
          ]
        },
        {
          "data": {
            "image/png": "[encoded data removed]",
            "text/plain": [
              "<Figure size 1200x600 with 8 Axes>"
            ]
          },
          "metadata": {},
          "output_type": "display_data"
        }
      ],
      "source": [
        "# Create DataLoaders\n",
        "BATCH_SIZE = 32\n",
        "\n",
        "train_loader = DataLoader(train_dataset, batch_size=BATCH_SIZE, shuffle=True, num_workers=0)\n",
        "val_loader = DataLoader(val_dataset, batch_size=BATCH_SIZE, shuffle=False, num_workers=0)\n",
        "test_loader = DataLoader(test_dataset, batch_size=BATCH_SIZE, shuffle=False, num_workers=0)\n",
        "\n",
        "print(f\"DataLoaders created:\")\n",
        "print(f\"  Batch size: {BATCH_SIZE}\")\n",
        "print(f\"  Training batches: {len(train_loader)}\")\n",
        "print(f\"  Validation batches: {len(val_loader)}\")\n",
        "print(f\"  Test batches: {len(test_loader)}\")\n",
        "\n",
        "# Visualize a batch\n",
        "def show_batch(loader, title):\n",
        "    dataiter = iter(loader)\n",
        "    images, labels = next(dataiter)\n",
        "    \n",
        "    fig, axes = plt.subplots(2, 4, figsize=(12, 6))\n",
        "    axes = axes.flatten()\n",
        "    \n",
        "    for i in range(min(8, len(images))):\n",
        "        img = images[i].squeeze()\n",
        "        label_idx = labels[i].item()\n",
        "        label_name = label_encoder.classes_[label_idx]\n",
        "        \n",
        "        axes[i].imshow(img, cmap='gray')\n",
        "        axes[i].set_title(f\"{label_name.replace('_', ' ').title()}\")\n",
        "        axes[i].axis('off')\n",
        "    \n",
        "    plt.suptitle(title)\n",
        "    plt.tight_layout()\n",
        "    plt.show()\n",
        "\n",
        "show_batch(train_loader, \"Training Batch (with augmentation)\")\n"
      ]
    },
    {
      "cell_type": "markdown",
      "metadata": {},
      "source": [
        "## 3. Model Architecture\n"
      ]
    },
    {
      "cell_type": "code",
      "execution_count": 9,
      "metadata": {},
      "outputs": [
        {
          "name": "stdout",
          "output_type": "stream",
          "text": [
            "Model created:\n",
            "  Total parameters: 36,544,199\n",
            "  Model on device: cuda:0\n",
            "\\nModel architecture:\n",
            "TetrisCNN(\n",
            "  (conv1): Conv2d(1, 64, kernel_size=(3, 3), stride=(1, 1), padding=(1, 1))\n",
            "  (bn1): BatchNorm2d(64, eps=1e-05, momentum=0.1, affine=True, track_running_stats=True)\n",
            "  (conv2): Conv2d(64, 64, kernel_size=(3, 3), stride=(1, 1), padding=(1, 1))\n",
            "  (bn2): BatchNorm2d(64, eps=1e-05, momentum=0.1, affine=True, track_running_stats=True)\n",
            "  (pool1): MaxPool2d(kernel_size=2, stride=2, padding=0, dilation=1, ceil_mode=False)\n",
            "  (dropout1): Dropout2d(p=0.1, inplace=False)\n",
            "  (conv3): Conv2d(64, 128, kernel_size=(3, 3), stride=(1, 1), padding=(1, 1))\n",
            "  (bn3): BatchNorm2d(128, eps=1e-05, momentum=0.1, affine=True, track_running_stats=True)\n",
            "  (conv4): Conv2d(128, 128, kernel_size=(3, 3), stride=(1, 1), padding=(1, 1))\n",
            "  (bn4): BatchNorm2d(128, eps=1e-05, momentum=0.1, affine=True, track_running_stats=True)\n",
            "  (pool2): MaxPool2d(kernel_size=2, stride=2, padding=0, dilation=1, ceil_mode=False)\n",
            "  (dropout2): Dropout2d(p=0.15, inplace=False)\n",
            "  (conv5): Conv2d(128, 256, kernel_size=(3, 3), stride=(1, 1), padding=(1, 1))\n",
            "  (bn5): BatchNorm2d(256, eps=1e-05, momentum=0.1, affine=True, track_running_stats=True)\n",
            "  (conv6): Conv2d(256, 256, kernel_size=(3, 3), stride=(1, 1), padding=(1, 1))\n",
            "  (bn6): BatchNorm2d(256, eps=1e-05, momentum=0.1, affine=True, track_running_stats=True)\n",
            "  (pool3): MaxPool2d(kernel_size=2, stride=2, padding=0, dilation=1, ceil_mode=False)\n",
            "  (dropout3): Dropout2d(p=0.2, inplace=False)\n",
            "  (conv7): Conv2d(256, 512, kernel_size=(3, 3), stride=(1, 1), padding=(1, 1))\n",
            "  (bn7): BatchNorm2d(512, eps=1e-05, momentum=0.1, affine=True, track_running_stats=True)\n",
            "  (pool4): MaxPool2d(kernel_size=2, stride=2, padding=0, dilation=1, ceil_mode=False)\n",
            "  (dropout4): Dropout2d(p=0.2, inplace=False)\n",
            "  (fc1): Linear(in_features=32768, out_features=1024, bias=True)\n",
            "  (bn8): BatchNorm1d(1024, eps=1e-05, momentum=0.1, affine=True, track_running_stats=True)\n",
            "  (dropout5): Dropout(p=0.3, inplace=False)\n",
            "  (fc2): Linear(in_features=1024, out_features=512, bias=True)\n",
            "  (bn9): BatchNorm1d(512, eps=1e-05, momentum=0.1, affine=True, track_running_stats=True)\n",
            "  (dropout6): Dropout(p=0.3, inplace=False)\n",
            "  (fc3): Linear(in_features=512, out_features=256, bias=True)\n",
            "  (bn10): BatchNorm1d(256, eps=1e-05, momentum=0.1, affine=True, track_running_stats=True)\n",
            "  (dropout7): Dropout(p=0.2, inplace=False)\n",
            "  (fc4): Linear(in_features=256, out_features=7, bias=True)\n",
            ")\n"
          ]
        }
      ],
      "source": [
        "class TetrisCNN(nn.Module):\n",
        "    \"\"\"CNN model for Tetris piece classification\"\"\"\n",
        "    \n",
        "    def __init__(self, num_classes):\n",
        "        super(TetrisCNN, self).__init__()\n",
        "        \n",
        "        # First convolutional block - smaller kernels for finer details\n",
        "        self.conv1 = nn.Conv2d(1, 64, kernel_size=3, padding=1)\n",
        "        self.bn1 = nn.BatchNorm2d(64)\n",
        "        self.conv2 = nn.Conv2d(64, 64, kernel_size=3, padding=1)\n",
        "        self.bn2 = nn.BatchNorm2d(64)\n",
        "        self.pool1 = nn.MaxPool2d(2, 2)\n",
        "        self.dropout1 = nn.Dropout2d(0.1)  # Reduced dropout to retain more features\n",
        "        \n",
        "        # Second convolutional block - focus on shape patterns\n",
        "        self.conv3 = nn.Conv2d(64, 128, kernel_size=3, padding=1)\n",
        "        self.bn3 = nn.BatchNorm2d(128)\n",
        "        self.conv4 = nn.Conv2d(128, 128, kernel_size=3, padding=1)\n",
        "        self.bn4 = nn.BatchNorm2d(128)\n",
        "        self.pool2 = nn.MaxPool2d(2, 2)\n",
        "        self.dropout2 = nn.Dropout2d(0.15)\n",
        "        \n",
        "        # Third convolutional block - deeper feature extraction\n",
        "        self.conv5 = nn.Conv2d(128, 256, kernel_size=3, padding=1)\n",
        "        self.bn5 = nn.BatchNorm2d(256)\n",
        "        self.conv6 = nn.Conv2d(256, 256, kernel_size=3, padding=1)\n",
        "        self.bn6 = nn.BatchNorm2d(256)\n",
        "        self.pool3 = nn.MaxPool2d(2, 2)\n",
        "        self.dropout3 = nn.Dropout2d(0.2)\n",
        "        \n",
        "        # Fourth convolutional block for fine-grained features\n",
        "        self.conv7 = nn.Conv2d(256, 512, kernel_size=3, padding=1)\n",
        "        self.bn7 = nn.BatchNorm2d(512)\n",
        "        self.pool4 = nn.MaxPool2d(2, 2)\n",
        "        self.dropout4 = nn.Dropout2d(0.2)\n",
        "        \n",
        "        # Calculate the size after convolutions  \n",
        "        # 128 -> 64 -> 32 -> 16 -> 8, so 8x8x512 = 32768\n",
        "        self.fc1 = nn.Linear(8 * 8 * 512, 1024)\n",
        "        self.bn8 = nn.BatchNorm1d(1024)\n",
        "        self.dropout5 = nn.Dropout(0.3)\n",
        "        self.fc2 = nn.Linear(1024, 512)\n",
        "        self.bn9 = nn.BatchNorm1d(512)\n",
        "        self.dropout6 = nn.Dropout(0.3)\n",
        "        self.fc3 = nn.Linear(512, 256)\n",
        "        self.bn10 = nn.BatchNorm1d(256)\n",
        "        self.dropout7 = nn.Dropout(0.2)\n",
        "        self.fc4 = nn.Linear(256, num_classes)\n",
        "        \n",
        "        # Initialize weights for better convergence\n",
        "        self._initialize_weights()\n",
        "        \n",
        "    def _initialize_weights(self):\n",
        "        for m in self.modules():\n",
        "            if isinstance(m, nn.Conv2d):\n",
        "                nn.init.kaiming_normal_(m.weight, mode='fan_out', nonlinearity='relu')\n",
        "                if m.bias is not None:\n",
        "                    nn.init.constant_(m.bias, 0)\n",
        "            elif isinstance(m, nn.BatchNorm2d):\n",
        "                nn.init.constant_(m.weight, 1)\n",
        "                nn.init.constant_(m.bias, 0)\n",
        "            elif isinstance(m, nn.Linear):\n",
        "                nn.init.normal_(m.weight, 0, 0.01)\n",
        "                nn.init.constant_(m.bias, 0)\n",
        "        \n",
        "    def forward(self, x):\n",
        "        # First block\n",
        "        x = F.relu(self.bn1(self.conv1(x)))\n",
        "        x = F.relu(self.bn2(self.conv2(x)))\n",
        "        x = self.pool1(x)\n",
        "        x = self.dropout1(x)\n",
        "        \n",
        "        # Second block\n",
        "        x = F.relu(self.bn3(self.conv3(x)))\n",
        "        x = F.relu(self.bn4(self.conv4(x)))\n",
        "        x = self.pool2(x)\n",
        "        x = self.dropout2(x)\n",
        "        \n",
        "        # Third block\n",
        "        x = F.relu(self.bn5(self.conv5(x)))\n",
        "        x = F.relu(self.bn6(self.conv6(x)))\n",
        "        x = self.pool3(x)\n",
        "        x = self.dropout3(x)\n",
        "        \n",
        "        # Fourth block\n",
        "        x = F.relu(self.bn7(self.conv7(x)))\n",
        "        x = self.pool4(x)\n",
        "        x = self.dropout4(x)\n",
        "        \n",
        "        # Flatten and fully connected layers\n",
        "        x = x.view(-1, 8 * 8 * 512)\n",
        "        x = F.relu(self.bn8(self.fc1(x)))\n",
        "        x = self.dropout5(x)\n",
        "        x = F.relu(self.bn9(self.fc2(x)))\n",
        "        x = self.dropout6(x)\n",
        "        x = F.relu(self.bn10(self.fc3(x)))\n",
        "        x = self.dropout7(x)\n",
        "        x = self.fc4(x)\n",
        "        \n",
        "        return x\n",
        "\n",
        "# Create model and move to device\n",
        "model = TetrisCNN(num_classes).to(device)\n",
        "\n",
        "# Print model summary\n",
        "def count_parameters(model):\n",
        "    return sum(p.numel() for p in model.parameters() if p.requires_grad)\n",
        "\n",
        "print(f\"Model created:\")\n",
        "print(f\"  Total parameters: {count_parameters(model):,}\")\n",
        "print(f\"  Model on device: {next(model.parameters()).device}\")\n",
        "print(f\"\\\\nModel architecture:\")\n",
        "print(model)\n"
      ]
    },
    {
      "cell_type": "markdown",
      "metadata": {},
      "source": [
        "## 4. Training Setup and Loop\n"
      ]
    },
    {
      "cell_type": "code",
      "execution_count": 10,
      "metadata": {},
      "outputs": [
        {
          "name": "stdout",
          "output_type": "stream",
          "text": [
            "Training configuration:\n",
            "  Learning rate: 0.02\n",
            "  Max epochs: 100\n",
            "  Optimizer: Adam\n",
            "  Loss function: CrossEntropyLoss\n",
            "  Scheduler: ReduceLROnPlateau (patience=5)\n",
            "  Early stopping: patience=100\n"
          ]
        }
      ],
      "source": [
        "# Training configuration\n",
        "LEARNING_RATE = 0.02\n",
        "NUM_EPOCHS = 100\n",
        "PATIENCE = 100\n",
        "\n",
        "# Loss function and optimizer\n",
        "criterion = nn.CrossEntropyLoss()\n",
        "optimizer = optim.Adam(model.parameters(), lr=LEARNING_RATE)\n",
        "scheduler = ReduceLROnPlateau(optimizer, mode='min', factor=0.5, patience=5)\n",
        "\n",
        "print(f\"Training configuration:\")\n",
        "print(f\"  Learning rate: {LEARNING_RATE}\")\n",
        "print(f\"  Max epochs: {NUM_EPOCHS}\")\n",
        "print(f\"  Optimizer: Adam\")\n",
        "print(f\"  Loss function: CrossEntropyLoss\")\n",
        "print(f\"  Scheduler: ReduceLROnPlateau (patience=5)\")\n",
        "print(f\"  Early stopping: patience={PATIENCE}\")\n"
      ]
    },
    {
      "cell_type": "code",
      "execution_count": 11,
      "metadata": {},
      "outputs": [
        {
          "name": "stdout",
          "output_type": "stream",
          "text": [
            "Training and validation functions defined\n"
          ]
        }
      ],
      "source": [
        "# Training and validation functions\n",
        "def train_epoch(model, train_loader, criterion, optimizer, device):\n",
        "    model.train()\n",
        "    running_loss = 0.0\n",
        "    correct = 0\n",
        "    total = 0\n",
        "    \n",
        "    for images, labels in tqdm(train_loader, desc=\"Training\"):\n",
        "        images, labels = images.to(device), labels.to(device)\n",
        "        \n",
        "        optimizer.zero_grad()\n",
        "        outputs = model(images)\n",
        "        loss = criterion(outputs, labels)\n",
        "        loss.backward()\n",
        "        optimizer.step()\n",
        "        \n",
        "        running_loss += loss.item()\n",
        "        _, predicted = torch.max(outputs.data, 1)\n",
        "        total += labels.size(0)\n",
        "        correct += (predicted == labels).sum().item()\n",
        "    \n",
        "    epoch_loss = running_loss / len(train_loader)\n",
        "    epoch_acc = 100 * correct / total\n",
        "    return epoch_loss, epoch_acc\n",
        "\n",
        "def validate_epoch(model, val_loader, criterion, device):\n",
        "    model.eval()\n",
        "    running_loss = 0.0\n",
        "    correct = 0\n",
        "    total = 0\n",
        "    \n",
        "    with torch.no_grad():\n",
        "        for images, labels in tqdm(val_loader, desc=\"Validation\"):\n",
        "            images, labels = images.to(device), labels.to(device)\n",
        "            outputs = model(images)\n",
        "            loss = criterion(outputs, labels)\n",
        "            \n",
        "            running_loss += loss.item()\n",
        "            _, predicted = torch.max(outputs.data, 1)\n",
        "            total += labels.size(0)\n",
        "            correct += (predicted == labels).sum().item()\n",
        "    \n",
        "    epoch_loss = running_loss / len(val_loader)\n",
        "    epoch_acc = 100 * correct / total\n",
        "    return epoch_loss, epoch_acc\n",
        "\n",
        "print(\"Training and validation functions defined\")\n"
      ]
    },
    {
      "cell_type": "code",
      "execution_count": 12,
      "metadata": {},
      "outputs": [
        {
          "name": "stdout",
          "output_type": "stream",
          "text": [
            "Starting training...\n",
            "==================================================\n",
            "\\nEpoch 1/100\n"
          ]
        },
        {
          "name": "stderr",
          "output_type": "stream",
          "text": [
            "Training: 100%|██████████| 13/13 [00:02<00:00,  5.95it/s]\n",
            "Validation: 100%|██████████| 3/3 [00:00<00:00, 18.56it/s]\n"
          ]
        },
        {
          "name": "stdout",
          "output_type": "stream",
          "text": [
            "Train Loss: 2.2263, Train Acc: 19.23%\n",
            "Val Loss: 15.2977, Val Acc: 19.10%\n",
            "New best model saved! Validation accuracy: 19.10%\n",
            "\\nEpoch 2/100\n"
          ]
        },
        {
          "name": "stderr",
          "output_type": "stream",
          "text": [
            "Training: 100%|██████████| 13/13 [00:01<00:00,  8.44it/s]\n",
            "Validation: 100%|██████████| 3/3 [00:00<00:00, 38.68it/s]\n"
          ]
        },
        {
          "name": "stdout",
          "output_type": "stream",
          "text": [
            "Train Loss: 2.1626, Train Acc: 19.47%\n",
            "Val Loss: 1.7218, Val Acc: 33.71%\n",
            "New best model saved! Validation accuracy: 33.71%\n",
            "\\nEpoch 3/100\n"
          ]
        },
        {
          "name": "stderr",
          "output_type": "stream",
          "text": [
            "Training: 100%|██████████| 13/13 [00:01<00:00,  8.47it/s]\n",
            "Validation: 100%|██████████| 3/3 [00:00<00:00, 38.95it/s]\n"
          ]
        },
        {
          "name": "stdout",
          "output_type": "stream",
          "text": [
            "Train Loss: 1.9523, Train Acc: 25.48%\n",
            "Val Loss: 1.8830, Val Acc: 26.97%\n",
            "\\nEpoch 4/100\n"
          ]
        },
        {
          "name": "stderr",
          "output_type": "stream",
          "text": [
            "Training: 100%|██████████| 13/13 [00:01<00:00,  8.51it/s]\n",
            "Validation: 100%|██████████| 3/3 [00:00<00:00, 39.59it/s]\n"
          ]
        },
        {
          "name": "stdout",
          "output_type": "stream",
          "text": [
            "Train Loss: 1.8958, Train Acc: 26.44%\n",
            "Val Loss: 1.7587, Val Acc: 33.71%\n",
            "\\nEpoch 5/100\n"
          ]
        },
        {
          "name": "stderr",
          "output_type": "stream",
          "text": [
            "Training: 100%|██████████| 13/13 [00:01<00:00,  8.71it/s]\n",
            "Validation: 100%|██████████| 3/3 [00:00<00:00, 39.55it/s]\n"
          ]
        },
        {
          "name": "stdout",
          "output_type": "stream",
          "text": [
            "Train Loss: 1.8917, Train Acc: 29.81%\n",
            "Val Loss: 1.6737, Val Acc: 32.58%\n",
            "\\nEpoch 6/100\n"
          ]
        },
        {
          "name": "stderr",
          "output_type": "stream",
          "text": [
            "Training: 100%|██████████| 13/13 [00:01<00:00,  8.49it/s]\n",
            "Validation: 100%|██████████| 3/3 [00:00<00:00, 39.39it/s]\n"
          ]
        },
        {
          "name": "stdout",
          "output_type": "stream",
          "text": [
            "Train Loss: 1.7325, Train Acc: 32.21%\n",
            "Val Loss: 1.5561, Val Acc: 38.20%\n",
            "New best model saved! Validation accuracy: 38.20%\n",
            "\\nEpoch 7/100\n"
          ]
        },
        {
          "name": "stderr",
          "output_type": "stream",
          "text": [
            "Training: 100%|██████████| 13/13 [00:01<00:00,  8.15it/s]\n",
            "Validation: 100%|██████████| 3/3 [00:00<00:00, 39.64it/s]\n"
          ]
        },
        {
          "name": "stdout",
          "output_type": "stream",
          "text": [
            "Train Loss: 1.7861, Train Acc: 32.69%\n",
            "Val Loss: 1.4962, Val Acc: 43.82%\n",
            "New best model saved! Validation accuracy: 43.82%\n",
            "\\nEpoch 8/100\n"
          ]
        },
        {
          "name": "stderr",
          "output_type": "stream",
          "text": [
            "Training: 100%|██████████| 13/13 [00:01<00:00,  8.50it/s]\n",
            "Validation: 100%|██████████| 3/3 [00:00<00:00, 39.09it/s]\n"
          ]
        },
        {
          "name": "stdout",
          "output_type": "stream",
          "text": [
            "Train Loss: 1.7790, Train Acc: 29.33%\n",
            "Val Loss: 1.4825, Val Acc: 44.94%\n",
            "New best model saved! Validation accuracy: 44.94%\n",
            "\\nEpoch 9/100\n"
          ]
        },
        {
          "name": "stderr",
          "output_type": "stream",
          "text": [
            "Training: 100%|██████████| 13/13 [00:01<00:00,  8.34it/s]\n",
            "Validation: 100%|██████████| 3/3 [00:00<00:00, 40.03it/s]\n"
          ]
        },
        {
          "name": "stdout",
          "output_type": "stream",
          "text": [
            "Train Loss: 1.6701, Train Acc: 35.10%\n",
            "Val Loss: 1.4179, Val Acc: 47.19%\n",
            "New best model saved! Validation accuracy: 47.19%\n",
            "\\nEpoch 10/100\n"
          ]
        },
        {
          "name": "stderr",
          "output_type": "stream",
          "text": [
            "Training: 100%|██████████| 13/13 [00:01<00:00,  8.71it/s]\n",
            "Validation: 100%|██████████| 3/3 [00:00<00:00, 38.34it/s]\n"
          ]
        },
        {
          "name": "stdout",
          "output_type": "stream",
          "text": [
            "Train Loss: 1.6242, Train Acc: 35.82%\n",
            "Val Loss: 1.4285, Val Acc: 47.19%\n",
            "\\nEpoch 11/100\n"
          ]
        },
        {
          "name": "stderr",
          "output_type": "stream",
          "text": [
            "Training: 100%|██████████| 13/13 [00:01<00:00,  8.51it/s]\n",
            "Validation: 100%|██████████| 3/3 [00:00<00:00, 38.56it/s]\n"
          ]
        },
        {
          "name": "stdout",
          "output_type": "stream",
          "text": [
            "Train Loss: 1.6448, Train Acc: 35.82%\n",
            "Val Loss: 1.3856, Val Acc: 44.94%\n",
            "\\nEpoch 12/100\n"
          ]
        },
        {
          "name": "stderr",
          "output_type": "stream",
          "text": [
            "Training: 100%|██████████| 13/13 [00:01<00:00,  8.64it/s]\n",
            "Validation: 100%|██████████| 3/3 [00:00<00:00, 37.68it/s]\n"
          ]
        },
        {
          "name": "stdout",
          "output_type": "stream",
          "text": [
            "Train Loss: 1.6065, Train Acc: 34.38%\n",
            "Val Loss: 1.3312, Val Acc: 49.44%\n",
            "New best model saved! Validation accuracy: 49.44%\n",
            "\\nEpoch 13/100\n"
          ]
        },
        {
          "name": "stderr",
          "output_type": "stream",
          "text": [
            "Training: 100%|██████████| 13/13 [00:01<00:00,  8.54it/s]\n",
            "Validation: 100%|██████████| 3/3 [00:00<00:00, 39.82it/s]\n"
          ]
        },
        {
          "name": "stdout",
          "output_type": "stream",
          "text": [
            "Train Loss: 1.5439, Train Acc: 38.94%\n",
            "Val Loss: 1.3198, Val Acc: 53.93%\n",
            "New best model saved! Validation accuracy: 53.93%\n",
            "\\nEpoch 14/100\n"
          ]
        },
        {
          "name": "stderr",
          "output_type": "stream",
          "text": [
            "Training: 100%|██████████| 13/13 [00:01<00:00,  8.51it/s]\n",
            "Validation: 100%|██████████| 3/3 [00:00<00:00, 38.83it/s]\n"
          ]
        },
        {
          "name": "stdout",
          "output_type": "stream",
          "text": [
            "Train Loss: 1.5891, Train Acc: 37.98%\n",
            "Val Loss: 1.3199, Val Acc: 50.56%\n",
            "\\nEpoch 15/100\n"
          ]
        },
        {
          "name": "stderr",
          "output_type": "stream",
          "text": [
            "Training: 100%|██████████| 13/13 [00:01<00:00,  8.14it/s]\n",
            "Validation: 100%|██████████| 3/3 [00:00<00:00, 37.30it/s]\n"
          ]
        },
        {
          "name": "stdout",
          "output_type": "stream",
          "text": [
            "Train Loss: 1.5165, Train Acc: 41.11%\n",
            "Val Loss: 1.6069, Val Acc: 37.08%\n",
            "\\nEpoch 16/100\n"
          ]
        },
        {
          "name": "stderr",
          "output_type": "stream",
          "text": [
            "Training: 100%|██████████| 13/13 [00:01<00:00,  7.82it/s]\n",
            "Validation: 100%|██████████| 3/3 [00:00<00:00, 38.20it/s]\n"
          ]
        },
        {
          "name": "stdout",
          "output_type": "stream",
          "text": [
            "Train Loss: 1.5294, Train Acc: 41.35%\n",
            "Val Loss: 2.1565, Val Acc: 23.60%\n",
            "\\nEpoch 17/100\n"
          ]
        },
        {
          "name": "stderr",
          "output_type": "stream",
          "text": [
            "Training: 100%|██████████| 13/13 [00:01<00:00,  8.51it/s]\n",
            "Validation: 100%|██████████| 3/3 [00:00<00:00, 38.94it/s]\n"
          ]
        },
        {
          "name": "stdout",
          "output_type": "stream",
          "text": [
            "Train Loss: 1.5991, Train Acc: 41.11%\n",
            "Val Loss: 1.2913, Val Acc: 48.31%\n",
            "\\nEpoch 18/100\n"
          ]
        },
        {
          "name": "stderr",
          "output_type": "stream",
          "text": [
            "Training: 100%|██████████| 13/13 [00:01<00:00,  8.66it/s]\n",
            "Validation: 100%|██████████| 3/3 [00:00<00:00, 38.78it/s]\n"
          ]
        },
        {
          "name": "stdout",
          "output_type": "stream",
          "text": [
            "Train Loss: 1.4839, Train Acc: 41.59%\n",
            "Val Loss: 1.2348, Val Acc: 55.06%\n",
            "New best model saved! Validation accuracy: 55.06%\n",
            "\\nEpoch 19/100\n"
          ]
        },
        {
          "name": "stderr",
          "output_type": "stream",
          "text": [
            "Training: 100%|██████████| 13/13 [00:01<00:00,  7.35it/s]\n",
            "Validation: 100%|██████████| 3/3 [00:00<00:00, 35.75it/s]\n"
          ]
        },
        {
          "name": "stdout",
          "output_type": "stream",
          "text": [
            "Train Loss: 1.5028, Train Acc: 39.66%\n",
            "Val Loss: 1.2179, Val Acc: 53.93%\n",
            "\\nEpoch 20/100\n"
          ]
        },
        {
          "name": "stderr",
          "output_type": "stream",
          "text": [
            "Training: 100%|██████████| 13/13 [00:01<00:00,  7.15it/s]\n",
            "Validation: 100%|██████████| 3/3 [00:00<00:00, 29.24it/s]\n"
          ]
        },
        {
          "name": "stdout",
          "output_type": "stream",
          "text": [
            "Train Loss: 1.4959, Train Acc: 42.07%\n",
            "Val Loss: 1.2701, Val Acc: 52.81%\n",
            "\\nEpoch 21/100\n"
          ]
        },
        {
          "name": "stderr",
          "output_type": "stream",
          "text": [
            "Training: 100%|██████████| 13/13 [00:02<00:00,  6.25it/s]\n",
            "Validation: 100%|██████████| 3/3 [00:00<00:00, 30.17it/s]\n"
          ]
        },
        {
          "name": "stdout",
          "output_type": "stream",
          "text": [
            "Train Loss: 1.5360, Train Acc: 42.31%\n",
            "Val Loss: 1.1882, Val Acc: 50.56%\n",
            "\\nEpoch 22/100\n"
          ]
        },
        {
          "name": "stderr",
          "output_type": "stream",
          "text": [
            "Training: 100%|██████████| 13/13 [00:01<00:00,  7.20it/s]\n",
            "Validation: 100%|██████████| 3/3 [00:00<00:00, 30.98it/s]\n"
          ]
        },
        {
          "name": "stdout",
          "output_type": "stream",
          "text": [
            "Train Loss: 1.4507, Train Acc: 43.03%\n",
            "Val Loss: 1.1914, Val Acc: 51.69%\n",
            "\\nEpoch 23/100\n"
          ]
        },
        {
          "name": "stderr",
          "output_type": "stream",
          "text": [
            "Training: 100%|██████████| 13/13 [00:01<00:00,  7.58it/s]\n",
            "Validation: 100%|██████████| 3/3 [00:00<00:00, 34.99it/s]\n"
          ]
        },
        {
          "name": "stdout",
          "output_type": "stream",
          "text": [
            "Train Loss: 1.4051, Train Acc: 46.39%\n",
            "Val Loss: 1.4321, Val Acc: 48.31%\n",
            "\\nEpoch 24/100\n"
          ]
        },
        {
          "name": "stderr",
          "output_type": "stream",
          "text": [
            "Training: 100%|██████████| 13/13 [00:01<00:00,  9.13it/s]\n",
            "Validation: 100%|██████████| 3/3 [00:00<00:00, 42.47it/s]\n"
          ]
        },
        {
          "name": "stdout",
          "output_type": "stream",
          "text": [
            "Train Loss: 1.4303, Train Acc: 45.19%\n",
            "Val Loss: 1.1716, Val Acc: 53.93%\n",
            "\\nEpoch 25/100\n"
          ]
        },
        {
          "name": "stderr",
          "output_type": "stream",
          "text": [
            "Training: 100%|██████████| 13/13 [00:01<00:00,  8.36it/s]\n",
            "Validation: 100%|██████████| 3/3 [00:00<00:00, 43.66it/s]\n"
          ]
        },
        {
          "name": "stdout",
          "output_type": "stream",
          "text": [
            "Train Loss: 1.4913, Train Acc: 41.83%\n",
            "Val Loss: 1.1632, Val Acc: 53.93%\n",
            "\\nEpoch 26/100\n"
          ]
        },
        {
          "name": "stderr",
          "output_type": "stream",
          "text": [
            "Training: 100%|██████████| 13/13 [00:01<00:00,  7.49it/s]\n",
            "Validation: 100%|██████████| 3/3 [00:00<00:00, 38.18it/s]\n"
          ]
        },
        {
          "name": "stdout",
          "output_type": "stream",
          "text": [
            "Train Loss: 1.3940, Train Acc: 48.08%\n",
            "Val Loss: 1.1211, Val Acc: 66.29%\n",
            "New best model saved! Validation accuracy: 66.29%\n",
            "\\nEpoch 27/100\n"
          ]
        },
        {
          "name": "stderr",
          "output_type": "stream",
          "text": [
            "Training: 100%|██████████| 13/13 [00:02<00:00,  6.42it/s]\n",
            "Validation: 100%|██████████| 3/3 [00:00<00:00, 38.82it/s]\n"
          ]
        },
        {
          "name": "stdout",
          "output_type": "stream",
          "text": [
            "Train Loss: 1.3916, Train Acc: 49.04%\n",
            "Val Loss: 1.1702, Val Acc: 56.18%\n",
            "\\nEpoch 28/100\n"
          ]
        },
        {
          "name": "stderr",
          "output_type": "stream",
          "text": [
            "Training: 100%|██████████| 13/13 [00:01<00:00,  7.22it/s]\n",
            "Validation: 100%|██████████| 3/3 [00:00<00:00, 31.97it/s]\n"
          ]
        },
        {
          "name": "stdout",
          "output_type": "stream",
          "text": [
            "Train Loss: 1.3600, Train Acc: 47.60%\n",
            "Val Loss: 1.1211, Val Acc: 58.43%\n",
            "\\nEpoch 29/100\n"
          ]
        },
        {
          "name": "stderr",
          "output_type": "stream",
          "text": [
            "Training: 100%|██████████| 13/13 [00:02<00:00,  6.40it/s]\n",
            "Validation: 100%|██████████| 3/3 [00:00<00:00, 35.39it/s]\n"
          ]
        },
        {
          "name": "stdout",
          "output_type": "stream",
          "text": [
            "Train Loss: 1.3707, Train Acc: 47.60%\n",
            "Val Loss: 1.4859, Val Acc: 44.94%\n",
            "\\nEpoch 30/100\n"
          ]
        },
        {
          "name": "stderr",
          "output_type": "stream",
          "text": [
            "Training: 100%|██████████| 13/13 [00:02<00:00,  6.01it/s]\n",
            "Validation: 100%|██████████| 3/3 [00:00<00:00, 31.87it/s]\n"
          ]
        },
        {
          "name": "stdout",
          "output_type": "stream",
          "text": [
            "Train Loss: 1.3124, Train Acc: 50.48%\n",
            "Val Loss: 1.0479, Val Acc: 59.55%\n",
            "\\nEpoch 31/100\n"
          ]
        },
        {
          "name": "stderr",
          "output_type": "stream",
          "text": [
            "Training: 100%|██████████| 13/13 [00:02<00:00,  6.44it/s]\n",
            "Validation: 100%|██████████| 3/3 [00:00<00:00, 29.25it/s]\n"
          ]
        },
        {
          "name": "stdout",
          "output_type": "stream",
          "text": [
            "Train Loss: 1.3613, Train Acc: 50.48%\n",
            "Val Loss: 1.1335, Val Acc: 56.18%\n",
            "\\nEpoch 32/100\n"
          ]
        },
        {
          "name": "stderr",
          "output_type": "stream",
          "text": [
            "Training: 100%|██████████| 13/13 [00:01<00:00,  6.57it/s]\n",
            "Validation: 100%|██████████| 3/3 [00:00<00:00, 39.72it/s]\n"
          ]
        },
        {
          "name": "stdout",
          "output_type": "stream",
          "text": [
            "Train Loss: 1.3245, Train Acc: 47.36%\n",
            "Val Loss: 1.1928, Val Acc: 57.30%\n",
            "\\nEpoch 33/100\n"
          ]
        },
        {
          "name": "stderr",
          "output_type": "stream",
          "text": [
            "Training: 100%|██████████| 13/13 [00:01<00:00,  7.61it/s]\n",
            "Validation: 100%|██████████| 3/3 [00:00<00:00, 39.53it/s]\n"
          ]
        },
        {
          "name": "stdout",
          "output_type": "stream",
          "text": [
            "Train Loss: 1.2609, Train Acc: 52.16%\n",
            "Val Loss: 0.9032, Val Acc: 65.17%\n",
            "\\nEpoch 34/100\n"
          ]
        },
        {
          "name": "stderr",
          "output_type": "stream",
          "text": [
            "Training: 100%|██████████| 13/13 [00:01<00:00,  8.58it/s]\n",
            "Validation: 100%|██████████| 3/3 [00:00<00:00, 39.79it/s]\n"
          ]
        },
        {
          "name": "stdout",
          "output_type": "stream",
          "text": [
            "Train Loss: 1.1652, Train Acc: 55.77%\n",
            "Val Loss: 0.9715, Val Acc: 61.80%\n",
            "\\nEpoch 35/100\n"
          ]
        },
        {
          "name": "stderr",
          "output_type": "stream",
          "text": [
            "Training: 100%|██████████| 13/13 [00:01<00:00,  8.35it/s]\n",
            "Validation: 100%|██████████| 3/3 [00:00<00:00, 38.22it/s]\n"
          ]
        },
        {
          "name": "stdout",
          "output_type": "stream",
          "text": [
            "Train Loss: 1.1747, Train Acc: 55.05%\n",
            "Val Loss: 0.9982, Val Acc: 65.17%\n",
            "\\nEpoch 36/100\n"
          ]
        },
        {
          "name": "stderr",
          "output_type": "stream",
          "text": [
            "Training: 100%|██████████| 13/13 [00:01<00:00,  7.75it/s]\n",
            "Validation: 100%|██████████| 3/3 [00:00<00:00, 38.76it/s]\n"
          ]
        },
        {
          "name": "stdout",
          "output_type": "stream",
          "text": [
            "Train Loss: 1.2163, Train Acc: 55.05%\n",
            "Val Loss: 0.8287, Val Acc: 74.16%\n",
            "New best model saved! Validation accuracy: 74.16%\n",
            "\\nEpoch 37/100\n"
          ]
        },
        {
          "name": "stderr",
          "output_type": "stream",
          "text": [
            "Training: 100%|██████████| 13/13 [00:01<00:00,  7.62it/s]\n",
            "Validation: 100%|██████████| 3/3 [00:00<00:00, 39.73it/s]\n"
          ]
        },
        {
          "name": "stdout",
          "output_type": "stream",
          "text": [
            "Train Loss: 1.1476, Train Acc: 57.93%\n",
            "Val Loss: 1.0443, Val Acc: 60.67%\n",
            "\\nEpoch 38/100\n"
          ]
        },
        {
          "name": "stderr",
          "output_type": "stream",
          "text": [
            "Training: 100%|██████████| 13/13 [00:01<00:00,  6.83it/s]\n",
            "Validation: 100%|██████████| 3/3 [00:00<00:00, 41.40it/s]\n"
          ]
        },
        {
          "name": "stdout",
          "output_type": "stream",
          "text": [
            "Train Loss: 1.1129, Train Acc: 56.01%\n",
            "Val Loss: 0.7270, Val Acc: 74.16%\n",
            "\\nEpoch 39/100\n"
          ]
        },
        {
          "name": "stderr",
          "output_type": "stream",
          "text": [
            "Training: 100%|██████████| 13/13 [00:01<00:00,  8.21it/s]\n",
            "Validation: 100%|██████████| 3/3 [00:00<00:00, 37.78it/s]\n"
          ]
        },
        {
          "name": "stdout",
          "output_type": "stream",
          "text": [
            "Train Loss: 1.1187, Train Acc: 57.93%\n",
            "Val Loss: 0.7652, Val Acc: 73.03%\n",
            "\\nEpoch 40/100\n"
          ]
        },
        {
          "name": "stderr",
          "output_type": "stream",
          "text": [
            "Training: 100%|██████████| 13/13 [00:01<00:00,  6.83it/s]\n",
            "Validation: 100%|██████████| 3/3 [00:00<00:00, 39.35it/s]\n"
          ]
        },
        {
          "name": "stdout",
          "output_type": "stream",
          "text": [
            "Train Loss: 1.1233, Train Acc: 55.77%\n",
            "Val Loss: 0.7203, Val Acc: 75.28%\n",
            "New best model saved! Validation accuracy: 75.28%\n",
            "\\nEpoch 41/100\n"
          ]
        },
        {
          "name": "stderr",
          "output_type": "stream",
          "text": [
            "Training: 100%|██████████| 13/13 [00:01<00:00,  8.49it/s]\n",
            "Validation: 100%|██████████| 3/3 [00:00<00:00, 39.40it/s]\n"
          ]
        },
        {
          "name": "stdout",
          "output_type": "stream",
          "text": [
            "Train Loss: 1.0352, Train Acc: 62.74%\n",
            "Val Loss: 1.2794, Val Acc: 55.06%\n",
            "\\nEpoch 42/100\n"
          ]
        },
        {
          "name": "stderr",
          "output_type": "stream",
          "text": [
            "Training: 100%|██████████| 13/13 [00:01<00:00,  8.83it/s]\n",
            "Validation: 100%|██████████| 3/3 [00:00<00:00, 37.58it/s]\n"
          ]
        },
        {
          "name": "stdout",
          "output_type": "stream",
          "text": [
            "Train Loss: 0.9854, Train Acc: 61.78%\n",
            "Val Loss: 4.5384, Val Acc: 31.46%\n",
            "\\nEpoch 43/100\n"
          ]
        },
        {
          "name": "stderr",
          "output_type": "stream",
          "text": [
            "Training: 100%|██████████| 13/13 [00:01<00:00,  8.68it/s]\n",
            "Validation: 100%|██████████| 3/3 [00:00<00:00, 39.50it/s]\n"
          ]
        },
        {
          "name": "stdout",
          "output_type": "stream",
          "text": [
            "Train Loss: 0.8735, Train Acc: 68.51%\n",
            "Val Loss: 1.1113, Val Acc: 64.04%\n",
            "\\nEpoch 44/100\n"
          ]
        },
        {
          "name": "stderr",
          "output_type": "stream",
          "text": [
            "Training: 100%|██████████| 13/13 [00:01<00:00,  7.56it/s]\n",
            "Validation: 100%|██████████| 3/3 [00:00<00:00, 35.95it/s]\n"
          ]
        },
        {
          "name": "stdout",
          "output_type": "stream",
          "text": [
            "Train Loss: 0.9748, Train Acc: 64.42%\n",
            "Val Loss: 0.6968, Val Acc: 76.40%\n",
            "New best model saved! Validation accuracy: 76.40%\n",
            "\\nEpoch 45/100\n"
          ]
        },
        {
          "name": "stderr",
          "output_type": "stream",
          "text": [
            "Training: 100%|██████████| 13/13 [00:01<00:00,  7.92it/s]\n",
            "Validation: 100%|██████████| 3/3 [00:00<00:00, 40.09it/s]\n"
          ]
        },
        {
          "name": "stdout",
          "output_type": "stream",
          "text": [
            "Train Loss: 0.9325, Train Acc: 61.06%\n",
            "Val Loss: 0.6980, Val Acc: 73.03%\n",
            "\\nEpoch 46/100\n"
          ]
        },
        {
          "name": "stderr",
          "output_type": "stream",
          "text": [
            "Training: 100%|██████████| 13/13 [00:01<00:00,  8.16it/s]\n",
            "Validation: 100%|██████████| 3/3 [00:00<00:00, 38.34it/s]\n"
          ]
        },
        {
          "name": "stdout",
          "output_type": "stream",
          "text": [
            "Train Loss: 0.9362, Train Acc: 64.66%\n",
            "Val Loss: 0.7674, Val Acc: 71.91%\n",
            "\\nEpoch 47/100\n"
          ]
        },
        {
          "name": "stderr",
          "output_type": "stream",
          "text": [
            "Training: 100%|██████████| 13/13 [00:01<00:00,  7.51it/s]\n",
            "Validation: 100%|██████████| 3/3 [00:00<00:00, 39.47it/s]\n"
          ]
        },
        {
          "name": "stdout",
          "output_type": "stream",
          "text": [
            "Train Loss: 0.8902, Train Acc: 64.90%\n",
            "Val Loss: 0.6221, Val Acc: 77.53%\n",
            "New best model saved! Validation accuracy: 77.53%\n",
            "\\nEpoch 48/100\n"
          ]
        },
        {
          "name": "stderr",
          "output_type": "stream",
          "text": [
            "Training: 100%|██████████| 13/13 [00:01<00:00,  8.24it/s]\n",
            "Validation: 100%|██████████| 3/3 [00:00<00:00, 38.19it/s]\n"
          ]
        },
        {
          "name": "stdout",
          "output_type": "stream",
          "text": [
            "Train Loss: 0.8667, Train Acc: 69.47%\n",
            "Val Loss: 0.5582, Val Acc: 77.53%\n",
            "\\nEpoch 49/100\n"
          ]
        },
        {
          "name": "stderr",
          "output_type": "stream",
          "text": [
            "Training: 100%|██████████| 13/13 [00:01<00:00,  8.41it/s]\n",
            "Validation: 100%|██████████| 3/3 [00:00<00:00, 38.64it/s]\n"
          ]
        },
        {
          "name": "stdout",
          "output_type": "stream",
          "text": [
            "Train Loss: 0.8783, Train Acc: 68.27%\n",
            "Val Loss: 0.6275, Val Acc: 76.40%\n",
            "\\nEpoch 50/100\n"
          ]
        },
        {
          "name": "stderr",
          "output_type": "stream",
          "text": [
            "Training: 100%|██████████| 13/13 [00:01<00:00,  8.11it/s]\n",
            "Validation: 100%|██████████| 3/3 [00:00<00:00, 39.40it/s]\n"
          ]
        },
        {
          "name": "stdout",
          "output_type": "stream",
          "text": [
            "Train Loss: 0.8916, Train Acc: 67.31%\n",
            "Val Loss: 0.5916, Val Acc: 71.91%\n",
            "\\nEpoch 51/100\n"
          ]
        },
        {
          "name": "stderr",
          "output_type": "stream",
          "text": [
            "Training: 100%|██████████| 13/13 [00:01<00:00,  8.17it/s]\n",
            "Validation: 100%|██████████| 3/3 [00:00<00:00, 40.38it/s]\n"
          ]
        },
        {
          "name": "stdout",
          "output_type": "stream",
          "text": [
            "Train Loss: 0.7842, Train Acc: 69.71%\n",
            "Val Loss: 0.5843, Val Acc: 79.78%\n",
            "New best model saved! Validation accuracy: 79.78%\n",
            "\\nEpoch 52/100\n"
          ]
        },
        {
          "name": "stderr",
          "output_type": "stream",
          "text": [
            "Training: 100%|██████████| 13/13 [00:01<00:00,  8.56it/s]\n",
            "Validation: 100%|██████████| 3/3 [00:00<00:00, 38.98it/s]\n"
          ]
        },
        {
          "name": "stdout",
          "output_type": "stream",
          "text": [
            "Train Loss: 0.8397, Train Acc: 67.79%\n",
            "Val Loss: 4.3843, Val Acc: 33.71%\n",
            "\\nEpoch 53/100\n"
          ]
        },
        {
          "name": "stderr",
          "output_type": "stream",
          "text": [
            "Training: 100%|██████████| 13/13 [00:01<00:00,  8.29it/s]\n",
            "Validation: 100%|██████████| 3/3 [00:00<00:00, 40.01it/s]\n"
          ]
        },
        {
          "name": "stdout",
          "output_type": "stream",
          "text": [
            "Train Loss: 0.7471, Train Acc: 72.60%\n",
            "Val Loss: 0.5459, Val Acc: 76.40%\n",
            "\\nEpoch 54/100\n"
          ]
        },
        {
          "name": "stderr",
          "output_type": "stream",
          "text": [
            "Training: 100%|██████████| 13/13 [00:01<00:00,  8.48it/s]\n",
            "Validation: 100%|██████████| 3/3 [00:00<00:00, 40.06it/s]\n"
          ]
        },
        {
          "name": "stdout",
          "output_type": "stream",
          "text": [
            "Train Loss: 0.7769, Train Acc: 70.19%\n",
            "Val Loss: 0.4785, Val Acc: 83.15%\n",
            "New best model saved! Validation accuracy: 83.15%\n",
            "\\nEpoch 55/100\n"
          ]
        },
        {
          "name": "stderr",
          "output_type": "stream",
          "text": [
            "Training: 100%|██████████| 13/13 [00:01<00:00,  8.53it/s]\n",
            "Validation: 100%|██████████| 3/3 [00:00<00:00, 41.46it/s]\n"
          ]
        },
        {
          "name": "stdout",
          "output_type": "stream",
          "text": [
            "Train Loss: 0.7694, Train Acc: 75.48%\n",
            "Val Loss: 3.7421, Val Acc: 32.58%\n",
            "\\nEpoch 56/100\n"
          ]
        },
        {
          "name": "stderr",
          "output_type": "stream",
          "text": [
            "Training: 100%|██████████| 13/13 [00:01<00:00,  8.28it/s]\n",
            "Validation: 100%|██████████| 3/3 [00:00<00:00, 39.00it/s]\n"
          ]
        },
        {
          "name": "stdout",
          "output_type": "stream",
          "text": [
            "Train Loss: 0.6133, Train Acc: 75.72%\n",
            "Val Loss: 0.5648, Val Acc: 79.78%\n",
            "\\nEpoch 57/100\n"
          ]
        },
        {
          "name": "stderr",
          "output_type": "stream",
          "text": [
            "Training: 100%|██████████| 13/13 [00:01<00:00,  8.62it/s]\n",
            "Validation: 100%|██████████| 3/3 [00:00<00:00, 38.63it/s]\n"
          ]
        },
        {
          "name": "stdout",
          "output_type": "stream",
          "text": [
            "Train Loss: 0.7679, Train Acc: 75.24%\n",
            "Val Loss: 0.4340, Val Acc: 82.02%\n",
            "\\nEpoch 58/100\n"
          ]
        },
        {
          "name": "stderr",
          "output_type": "stream",
          "text": [
            "Training: 100%|██████████| 13/13 [00:01<00:00,  8.19it/s]\n",
            "Validation: 100%|██████████| 3/3 [00:00<00:00, 39.29it/s]\n"
          ]
        },
        {
          "name": "stdout",
          "output_type": "stream",
          "text": [
            "Train Loss: 0.6719, Train Acc: 75.00%\n",
            "Val Loss: 0.7545, Val Acc: 70.79%\n",
            "\\nEpoch 59/100\n"
          ]
        },
        {
          "name": "stderr",
          "output_type": "stream",
          "text": [
            "Training: 100%|██████████| 13/13 [00:01<00:00,  7.69it/s]\n",
            "Validation: 100%|██████████| 3/3 [00:00<00:00, 34.22it/s]\n"
          ]
        },
        {
          "name": "stdout",
          "output_type": "stream",
          "text": [
            "Train Loss: 0.7278, Train Acc: 71.15%\n",
            "Val Loss: 0.5987, Val Acc: 77.53%\n",
            "\\nEpoch 60/100\n"
          ]
        },
        {
          "name": "stderr",
          "output_type": "stream",
          "text": [
            "Training: 100%|██████████| 13/13 [00:01<00:00,  8.19it/s]\n",
            "Validation: 100%|██████████| 3/3 [00:00<00:00, 39.66it/s]\n"
          ]
        },
        {
          "name": "stdout",
          "output_type": "stream",
          "text": [
            "Train Loss: 0.6914, Train Acc: 77.16%\n",
            "Val Loss: 1.1939, Val Acc: 61.80%\n",
            "\\nEpoch 61/100\n"
          ]
        },
        {
          "name": "stderr",
          "output_type": "stream",
          "text": [
            "Training: 100%|██████████| 13/13 [00:01<00:00,  8.78it/s]\n",
            "Validation: 100%|██████████| 3/3 [00:00<00:00, 40.20it/s]\n"
          ]
        },
        {
          "name": "stdout",
          "output_type": "stream",
          "text": [
            "Train Loss: 0.7412, Train Acc: 75.24%\n",
            "Val Loss: 0.4661, Val Acc: 85.39%\n",
            "New best model saved! Validation accuracy: 85.39%\n",
            "\\nEpoch 62/100\n"
          ]
        },
        {
          "name": "stderr",
          "output_type": "stream",
          "text": [
            "Training: 100%|██████████| 13/13 [00:01<00:00,  8.65it/s]\n",
            "Validation: 100%|██████████| 3/3 [00:00<00:00, 41.12it/s]\n"
          ]
        },
        {
          "name": "stdout",
          "output_type": "stream",
          "text": [
            "Train Loss: 0.6767, Train Acc: 73.56%\n",
            "Val Loss: 0.4245, Val Acc: 86.52%\n",
            "New best model saved! Validation accuracy: 86.52%\n",
            "\\nEpoch 63/100\n"
          ]
        },
        {
          "name": "stderr",
          "output_type": "stream",
          "text": [
            "Training: 100%|██████████| 13/13 [00:01<00:00,  8.94it/s]\n",
            "Validation: 100%|██████████| 3/3 [00:00<00:00, 40.07it/s]\n"
          ]
        },
        {
          "name": "stdout",
          "output_type": "stream",
          "text": [
            "Train Loss: 0.6583, Train Acc: 74.52%\n",
            "Val Loss: 0.4510, Val Acc: 85.39%\n",
            "\\nEpoch 64/100\n"
          ]
        },
        {
          "name": "stderr",
          "output_type": "stream",
          "text": [
            "Training: 100%|██████████| 13/13 [00:01<00:00,  8.41it/s]\n",
            "Validation: 100%|██████████| 3/3 [00:00<00:00, 39.19it/s]\n"
          ]
        },
        {
          "name": "stdout",
          "output_type": "stream",
          "text": [
            "Train Loss: 0.7293, Train Acc: 74.04%\n",
            "Val Loss: 0.3385, Val Acc: 87.64%\n",
            "New best model saved! Validation accuracy: 87.64%\n",
            "\\nEpoch 65/100\n"
          ]
        },
        {
          "name": "stderr",
          "output_type": "stream",
          "text": [
            "Training: 100%|██████████| 13/13 [00:01<00:00,  8.54it/s]\n",
            "Validation: 100%|██████████| 3/3 [00:00<00:00, 40.68it/s]\n"
          ]
        },
        {
          "name": "stdout",
          "output_type": "stream",
          "text": [
            "Train Loss: 0.6178, Train Acc: 79.33%\n",
            "Val Loss: 0.4285, Val Acc: 83.15%\n",
            "\\nEpoch 66/100\n"
          ]
        },
        {
          "name": "stderr",
          "output_type": "stream",
          "text": [
            "Training: 100%|██████████| 13/13 [00:01<00:00,  8.40it/s]\n",
            "Validation: 100%|██████████| 3/3 [00:00<00:00, 40.41it/s]\n"
          ]
        },
        {
          "name": "stdout",
          "output_type": "stream",
          "text": [
            "Train Loss: 0.5838, Train Acc: 77.64%\n",
            "Val Loss: 0.4357, Val Acc: 85.39%\n",
            "\\nEpoch 67/100\n"
          ]
        },
        {
          "name": "stderr",
          "output_type": "stream",
          "text": [
            "Training: 100%|██████████| 13/13 [00:01<00:00,  8.64it/s]\n",
            "Validation: 100%|██████████| 3/3 [00:00<00:00, 40.20it/s]\n"
          ]
        },
        {
          "name": "stdout",
          "output_type": "stream",
          "text": [
            "Train Loss: 0.6346, Train Acc: 79.33%\n",
            "Val Loss: 0.3825, Val Acc: 84.27%\n",
            "\\nEpoch 68/100\n"
          ]
        },
        {
          "name": "stderr",
          "output_type": "stream",
          "text": [
            "Training: 100%|██████████| 13/13 [00:01<00:00,  8.77it/s]\n",
            "Validation: 100%|██████████| 3/3 [00:00<00:00, 38.45it/s]\n"
          ]
        },
        {
          "name": "stdout",
          "output_type": "stream",
          "text": [
            "Train Loss: 0.5809, Train Acc: 79.33%\n",
            "Val Loss: 0.4489, Val Acc: 87.64%\n",
            "\\nEpoch 69/100\n"
          ]
        },
        {
          "name": "stderr",
          "output_type": "stream",
          "text": [
            "Training: 100%|██████████| 13/13 [00:01<00:00,  8.71it/s]\n",
            "Validation: 100%|██████████| 3/3 [00:00<00:00, 38.10it/s]\n"
          ]
        },
        {
          "name": "stdout",
          "output_type": "stream",
          "text": [
            "Train Loss: 0.5980, Train Acc: 80.29%\n",
            "Val Loss: 0.4335, Val Acc: 84.27%\n",
            "\\nEpoch 70/100\n"
          ]
        },
        {
          "name": "stderr",
          "output_type": "stream",
          "text": [
            "Training: 100%|██████████| 13/13 [00:01<00:00,  7.60it/s]\n",
            "Validation: 100%|██████████| 3/3 [00:00<00:00, 39.47it/s]\n"
          ]
        },
        {
          "name": "stdout",
          "output_type": "stream",
          "text": [
            "Train Loss: 0.6552, Train Acc: 75.00%\n",
            "Val Loss: 0.4728, Val Acc: 83.15%\n",
            "\\nEpoch 71/100\n"
          ]
        },
        {
          "name": "stderr",
          "output_type": "stream",
          "text": [
            "Training: 100%|██████████| 13/13 [00:01<00:00,  8.76it/s]\n",
            "Validation: 100%|██████████| 3/3 [00:00<00:00, 40.58it/s]\n"
          ]
        },
        {
          "name": "stdout",
          "output_type": "stream",
          "text": [
            "Train Loss: 0.5533, Train Acc: 81.97%\n",
            "Val Loss: 0.3702, Val Acc: 88.76%\n",
            "New best model saved! Validation accuracy: 88.76%\n",
            "\\nEpoch 72/100\n"
          ]
        },
        {
          "name": "stderr",
          "output_type": "stream",
          "text": [
            "Training: 100%|██████████| 13/13 [00:01<00:00,  8.58it/s]\n",
            "Validation: 100%|██████████| 3/3 [00:00<00:00, 39.91it/s]\n"
          ]
        },
        {
          "name": "stdout",
          "output_type": "stream",
          "text": [
            "Train Loss: 0.4648, Train Acc: 83.41%\n",
            "Val Loss: 0.3421, Val Acc: 89.89%\n",
            "New best model saved! Validation accuracy: 89.89%\n",
            "\\nEpoch 73/100\n"
          ]
        },
        {
          "name": "stderr",
          "output_type": "stream",
          "text": [
            "Training: 100%|██████████| 13/13 [00:01<00:00,  7.78it/s]\n",
            "Validation: 100%|██████████| 3/3 [00:00<00:00, 40.63it/s]\n"
          ]
        },
        {
          "name": "stdout",
          "output_type": "stream",
          "text": [
            "Train Loss: 0.3910, Train Acc: 86.06%\n",
            "Val Loss: 0.3244, Val Acc: 93.26%\n",
            "New best model saved! Validation accuracy: 93.26%\n",
            "\\nEpoch 74/100\n"
          ]
        },
        {
          "name": "stderr",
          "output_type": "stream",
          "text": [
            "Training: 100%|██████████| 13/13 [00:01<00:00,  8.72it/s]\n",
            "Validation: 100%|██████████| 3/3 [00:00<00:00, 39.46it/s]\n"
          ]
        },
        {
          "name": "stdout",
          "output_type": "stream",
          "text": [
            "Train Loss: 0.3902, Train Acc: 86.30%\n",
            "Val Loss: 0.3137, Val Acc: 93.26%\n",
            "\\nEpoch 75/100\n"
          ]
        },
        {
          "name": "stderr",
          "output_type": "stream",
          "text": [
            "Training: 100%|██████████| 13/13 [00:01<00:00,  8.86it/s]\n",
            "Validation: 100%|██████████| 3/3 [00:00<00:00, 40.27it/s]\n"
          ]
        },
        {
          "name": "stdout",
          "output_type": "stream",
          "text": [
            "Train Loss: 0.4251, Train Acc: 84.13%\n",
            "Val Loss: 0.3234, Val Acc: 92.13%\n",
            "\\nEpoch 76/100\n"
          ]
        },
        {
          "name": "stderr",
          "output_type": "stream",
          "text": [
            "Training: 100%|██████████| 13/13 [00:01<00:00,  8.61it/s]\n",
            "Validation: 100%|██████████| 3/3 [00:00<00:00, 41.36it/s]\n"
          ]
        },
        {
          "name": "stdout",
          "output_type": "stream",
          "text": [
            "Train Loss: 0.4933, Train Acc: 82.21%\n",
            "Val Loss: 0.3168, Val Acc: 88.76%\n",
            "\\nEpoch 77/100\n"
          ]
        },
        {
          "name": "stderr",
          "output_type": "stream",
          "text": [
            "Training: 100%|██████████| 13/13 [00:01<00:00,  8.93it/s]\n",
            "Validation: 100%|██████████| 3/3 [00:00<00:00, 39.98it/s]\n"
          ]
        },
        {
          "name": "stdout",
          "output_type": "stream",
          "text": [
            "Train Loss: 0.3935, Train Acc: 85.34%\n",
            "Val Loss: 0.3220, Val Acc: 92.13%\n",
            "\\nEpoch 78/100\n"
          ]
        },
        {
          "name": "stderr",
          "output_type": "stream",
          "text": [
            "Training: 100%|██████████| 13/13 [00:01<00:00,  8.92it/s]\n",
            "Validation: 100%|██████████| 3/3 [00:00<00:00, 41.41it/s]\n"
          ]
        },
        {
          "name": "stdout",
          "output_type": "stream",
          "text": [
            "Train Loss: 0.3489, Train Acc: 87.02%\n",
            "Val Loss: 0.3143, Val Acc: 91.01%\n",
            "\\nEpoch 79/100\n"
          ]
        },
        {
          "name": "stderr",
          "output_type": "stream",
          "text": [
            "Training: 100%|██████████| 13/13 [00:01<00:00,  8.57it/s]\n",
            "Validation: 100%|██████████| 3/3 [00:00<00:00, 37.40it/s]\n"
          ]
        },
        {
          "name": "stdout",
          "output_type": "stream",
          "text": [
            "Train Loss: 0.3643, Train Acc: 86.30%\n",
            "Val Loss: 0.3106, Val Acc: 88.76%\n",
            "\\nEpoch 80/100\n"
          ]
        },
        {
          "name": "stderr",
          "output_type": "stream",
          "text": [
            "Training: 100%|██████████| 13/13 [00:01<00:00,  7.61it/s]\n",
            "Validation: 100%|██████████| 3/3 [00:00<00:00, 38.15it/s]\n"
          ]
        },
        {
          "name": "stdout",
          "output_type": "stream",
          "text": [
            "Train Loss: 0.3062, Train Acc: 89.66%\n",
            "Val Loss: 0.3090, Val Acc: 91.01%\n",
            "\\nEpoch 81/100\n"
          ]
        },
        {
          "name": "stderr",
          "output_type": "stream",
          "text": [
            "Training: 100%|██████████| 13/13 [00:01<00:00,  7.95it/s]\n",
            "Validation: 100%|██████████| 3/3 [00:00<00:00, 40.07it/s]\n"
          ]
        },
        {
          "name": "stdout",
          "output_type": "stream",
          "text": [
            "Train Loss: 0.3087, Train Acc: 89.18%\n",
            "Val Loss: 0.2978, Val Acc: 91.01%\n",
            "\\nEpoch 82/100\n"
          ]
        },
        {
          "name": "stderr",
          "output_type": "stream",
          "text": [
            "Training: 100%|██████████| 13/13 [00:01<00:00,  8.13it/s]\n",
            "Validation: 100%|██████████| 3/3 [00:00<00:00, 37.70it/s]\n"
          ]
        },
        {
          "name": "stdout",
          "output_type": "stream",
          "text": [
            "Train Loss: 0.3553, Train Acc: 87.50%\n",
            "Val Loss: 0.2975, Val Acc: 91.01%\n",
            "\\nEpoch 83/100\n"
          ]
        },
        {
          "name": "stderr",
          "output_type": "stream",
          "text": [
            "Training: 100%|██████████| 13/13 [00:01<00:00,  8.43it/s]\n",
            "Validation: 100%|██████████| 3/3 [00:00<00:00, 37.38it/s]\n"
          ]
        },
        {
          "name": "stdout",
          "output_type": "stream",
          "text": [
            "Train Loss: 0.3953, Train Acc: 86.78%\n",
            "Val Loss: 0.3058, Val Acc: 89.89%\n",
            "\\nEpoch 84/100\n"
          ]
        },
        {
          "name": "stderr",
          "output_type": "stream",
          "text": [
            "Training: 100%|██████████| 13/13 [00:01<00:00,  8.24it/s]\n",
            "Validation: 100%|██████████| 3/3 [00:00<00:00, 39.80it/s]\n"
          ]
        },
        {
          "name": "stdout",
          "output_type": "stream",
          "text": [
            "Train Loss: 0.3578, Train Acc: 85.58%\n",
            "Val Loss: 0.3535, Val Acc: 88.76%\n",
            "\\nEpoch 85/100\n"
          ]
        },
        {
          "name": "stderr",
          "output_type": "stream",
          "text": [
            "Training: 100%|██████████| 13/13 [00:01<00:00,  8.15it/s]\n",
            "Validation: 100%|██████████| 3/3 [00:00<00:00, 37.99it/s]\n"
          ]
        },
        {
          "name": "stdout",
          "output_type": "stream",
          "text": [
            "Train Loss: 0.3300, Train Acc: 88.94%\n",
            "Val Loss: 0.3601, Val Acc: 87.64%\n",
            "\\nEpoch 86/100\n"
          ]
        },
        {
          "name": "stderr",
          "output_type": "stream",
          "text": [
            "Training: 100%|██████████| 13/13 [00:01<00:00,  8.07it/s]\n",
            "Validation: 100%|██████████| 3/3 [00:00<00:00, 34.43it/s]\n"
          ]
        },
        {
          "name": "stdout",
          "output_type": "stream",
          "text": [
            "Train Loss: 0.3551, Train Acc: 88.22%\n",
            "Val Loss: 0.2978, Val Acc: 89.89%\n",
            "\\nEpoch 87/100\n"
          ]
        },
        {
          "name": "stderr",
          "output_type": "stream",
          "text": [
            "Training: 100%|██████████| 13/13 [00:01<00:00,  8.07it/s]\n",
            "Validation: 100%|██████████| 3/3 [00:00<00:00, 35.46it/s]\n"
          ]
        },
        {
          "name": "stdout",
          "output_type": "stream",
          "text": [
            "Train Loss: 0.3139, Train Acc: 88.46%\n",
            "Val Loss: 0.3047, Val Acc: 91.01%\n",
            "\\nEpoch 88/100\n"
          ]
        },
        {
          "name": "stderr",
          "output_type": "stream",
          "text": [
            "Training: 100%|██████████| 13/13 [00:01<00:00,  6.88it/s]\n",
            "Validation: 100%|██████████| 3/3 [00:00<00:00, 36.30it/s]\n"
          ]
        },
        {
          "name": "stdout",
          "output_type": "stream",
          "text": [
            "Train Loss: 0.3430, Train Acc: 88.70%\n",
            "Val Loss: 0.3327, Val Acc: 88.76%\n",
            "\\nEpoch 89/100\n"
          ]
        },
        {
          "name": "stderr",
          "output_type": "stream",
          "text": [
            "Training: 100%|██████████| 13/13 [00:01<00:00,  8.50it/s]\n",
            "Validation: 100%|██████████| 3/3 [00:00<00:00, 37.73it/s]\n"
          ]
        },
        {
          "name": "stdout",
          "output_type": "stream",
          "text": [
            "Train Loss: 0.2841, Train Acc: 90.38%\n",
            "Val Loss: 0.2940, Val Acc: 88.76%\n",
            "\\nEpoch 90/100\n"
          ]
        },
        {
          "name": "stderr",
          "output_type": "stream",
          "text": [
            "Training: 100%|██████████| 13/13 [00:01<00:00,  7.83it/s]\n",
            "Validation: 100%|██████████| 3/3 [00:00<00:00, 37.62it/s]\n"
          ]
        },
        {
          "name": "stdout",
          "output_type": "stream",
          "text": [
            "Train Loss: 0.3325, Train Acc: 88.70%\n",
            "Val Loss: 0.2699, Val Acc: 88.76%\n",
            "\\nEpoch 91/100\n"
          ]
        },
        {
          "name": "stderr",
          "output_type": "stream",
          "text": [
            "Training: 100%|██████████| 13/13 [00:01<00:00,  7.76it/s]\n",
            "Validation: 100%|██████████| 3/3 [00:00<00:00, 36.26it/s]\n"
          ]
        },
        {
          "name": "stdout",
          "output_type": "stream",
          "text": [
            "Train Loss: 0.2883, Train Acc: 89.90%\n",
            "Val Loss: 0.2598, Val Acc: 92.13%\n",
            "\\nEpoch 92/100\n"
          ]
        },
        {
          "name": "stderr",
          "output_type": "stream",
          "text": [
            "Training: 100%|██████████| 13/13 [00:01<00:00,  7.52it/s]\n",
            "Validation: 100%|██████████| 3/3 [00:00<00:00, 38.56it/s]\n"
          ]
        },
        {
          "name": "stdout",
          "output_type": "stream",
          "text": [
            "Train Loss: 0.2812, Train Acc: 90.62%\n",
            "Val Loss: 0.2657, Val Acc: 93.26%\n",
            "\\nEpoch 93/100\n"
          ]
        },
        {
          "name": "stderr",
          "output_type": "stream",
          "text": [
            "Training: 100%|██████████| 13/13 [00:01<00:00,  7.41it/s]\n",
            "Validation: 100%|██████████| 3/3 [00:00<00:00, 28.02it/s]\n"
          ]
        },
        {
          "name": "stdout",
          "output_type": "stream",
          "text": [
            "Train Loss: 0.2682, Train Acc: 89.66%\n",
            "Val Loss: 0.2927, Val Acc: 89.89%\n",
            "\\nEpoch 94/100\n"
          ]
        },
        {
          "name": "stderr",
          "output_type": "stream",
          "text": [
            "Training: 100%|██████████| 13/13 [00:01<00:00,  7.28it/s]\n",
            "Validation: 100%|██████████| 3/3 [00:00<00:00, 41.01it/s]\n"
          ]
        },
        {
          "name": "stdout",
          "output_type": "stream",
          "text": [
            "Train Loss: 0.2890, Train Acc: 91.11%\n",
            "Val Loss: 0.2917, Val Acc: 89.89%\n",
            "\\nEpoch 95/100\n"
          ]
        },
        {
          "name": "stderr",
          "output_type": "stream",
          "text": [
            "Training: 100%|██████████| 13/13 [00:01<00:00,  9.12it/s]\n",
            "Validation: 100%|██████████| 3/3 [00:00<00:00, 40.59it/s]\n"
          ]
        },
        {
          "name": "stdout",
          "output_type": "stream",
          "text": [
            "Train Loss: 0.2838, Train Acc: 89.66%\n",
            "Val Loss: 0.2949, Val Acc: 91.01%\n",
            "\\nEpoch 96/100\n"
          ]
        },
        {
          "name": "stderr",
          "output_type": "stream",
          "text": [
            "Training: 100%|██████████| 13/13 [00:01<00:00,  8.13it/s]\n",
            "Validation: 100%|██████████| 3/3 [00:00<00:00, 40.79it/s]\n"
          ]
        },
        {
          "name": "stdout",
          "output_type": "stream",
          "text": [
            "Train Loss: 0.3481, Train Acc: 88.70%\n",
            "Val Loss: 0.2881, Val Acc: 89.89%\n",
            "\\nEpoch 97/100\n"
          ]
        },
        {
          "name": "stderr",
          "output_type": "stream",
          "text": [
            "Training: 100%|██████████| 13/13 [00:01<00:00,  8.98it/s]\n",
            "Validation: 100%|██████████| 3/3 [00:00<00:00, 41.19it/s]\n"
          ]
        },
        {
          "name": "stdout",
          "output_type": "stream",
          "text": [
            "Train Loss: 0.2776, Train Acc: 91.11%\n",
            "Val Loss: 0.2811, Val Acc: 88.76%\n",
            "\\nEpoch 98/100\n"
          ]
        },
        {
          "name": "stderr",
          "output_type": "stream",
          "text": [
            "Training: 100%|██████████| 13/13 [00:01<00:00,  8.86it/s]\n",
            "Validation: 100%|██████████| 3/3 [00:00<00:00, 40.49it/s]\n"
          ]
        },
        {
          "name": "stdout",
          "output_type": "stream",
          "text": [
            "Train Loss: 0.2513, Train Acc: 90.87%\n",
            "Val Loss: 0.2766, Val Acc: 91.01%\n",
            "\\nEpoch 99/100\n"
          ]
        },
        {
          "name": "stderr",
          "output_type": "stream",
          "text": [
            "Training: 100%|██████████| 13/13 [00:01<00:00,  9.07it/s]\n",
            "Validation: 100%|██████████| 3/3 [00:00<00:00, 41.18it/s]\n"
          ]
        },
        {
          "name": "stdout",
          "output_type": "stream",
          "text": [
            "Train Loss: 0.2321, Train Acc: 91.59%\n",
            "Val Loss: 0.2773, Val Acc: 88.76%\n",
            "\\nEpoch 100/100\n"
          ]
        },
        {
          "name": "stderr",
          "output_type": "stream",
          "text": [
            "Training: 100%|██████████| 13/13 [00:01<00:00,  8.88it/s]\n",
            "Validation: 100%|██████████| 3/3 [00:00<00:00, 41.40it/s]"
          ]
        },
        {
          "name": "stdout",
          "output_type": "stream",
          "text": [
            "Train Loss: 0.2697, Train Acc: 91.59%\n",
            "Val Loss: 0.2867, Val Acc: 89.89%\n",
            "\\nLoaded best model with validation accuracy: 93.26%\n",
            "\\nTraining completed!\n"
          ]
        },
        {
          "name": "stderr",
          "output_type": "stream",
          "text": [
            "\n"
          ]
        }
      ],
      "source": [
        "# Training loop with early stopping\n",
        "train_losses = []\n",
        "train_accs = []\n",
        "val_losses = []\n",
        "val_accs = []\n",
        "\n",
        "best_val_acc = 0\n",
        "epochs_without_improvement = 0\n",
        "best_model_state = None\n",
        "\n",
        "print(\"Starting training...\")\n",
        "print(\"=\" * 50)\n",
        "\n",
        "for epoch in range(NUM_EPOCHS):\n",
        "    print(f\"\\\\nEpoch {epoch+1}/{NUM_EPOCHS}\")\n",
        "    \n",
        "    # Training\n",
        "    train_loss, train_acc = train_epoch(model, train_loader, criterion, optimizer, device)\n",
        "    \n",
        "    # Validation\n",
        "    val_loss, val_acc = validate_epoch(model, val_loader, criterion, device)\n",
        "    \n",
        "    # Store metrics\n",
        "    train_losses.append(train_loss)\n",
        "    train_accs.append(train_acc)\n",
        "    val_losses.append(val_loss)\n",
        "    val_accs.append(val_acc)\n",
        "    \n",
        "    # Learning rate scheduling\n",
        "    scheduler.step(val_loss)\n",
        "    \n",
        "    print(f\"Train Loss: {train_loss:.4f}, Train Acc: {train_acc:.2f}%\")\n",
        "    print(f\"Val Loss: {val_loss:.4f}, Val Acc: {val_acc:.2f}%\")\n",
        "    \n",
        "    # Early stopping and best model saving\n",
        "    if val_acc > best_val_acc:\n",
        "        best_val_acc = val_acc\n",
        "        epochs_without_improvement = 0\n",
        "        best_model_state = model.state_dict().copy()\n",
        "        torch.save(best_model_state, 'best_tetris_model.pth')\n",
        "        print(f\"New best model saved! Validation accuracy: {val_acc:.2f}%\")\n",
        "    else:\n",
        "        epochs_without_improvement += 1\n",
        "        \n",
        "    if epochs_without_improvement >= PATIENCE:\n",
        "        print(f\"\\\\nEarly stopping after {epoch+1} epochs\")\n",
        "        print(f\"Best validation accuracy: {best_val_acc:.2f}%\")\n",
        "        break\n",
        "\n",
        "# Load best model\n",
        "if best_model_state is not None:\n",
        "    model.load_state_dict(best_model_state)\n",
        "    print(f\"\\\\nLoaded best model with validation accuracy: {best_val_acc:.2f}%\")\n",
        "\n",
        "print(\"\\\\nTraining completed!\")\n"
      ]
    },
    {
      "cell_type": "markdown",
      "metadata": {},
      "source": [
        "## 5. Training Visualization and Evaluation\n"
      ]
    },
    {
      "cell_type": "code",
      "execution_count": 13,
      "metadata": {},
      "outputs": [
        {
          "data": {
            "image/png": "[encoded data removed]",
            "text/plain": [
              "<Figure size 1500x500 with 2 Axes>"
            ]
          },
          "metadata": {},
          "output_type": "display_data"
        },
        {
          "name": "stdout",
          "output_type": "stream",
          "text": [
            "Training Summary:\n",
            "  Best validation accuracy: 93.26%\n",
            "  Final training accuracy: 91.59%\n",
            "  Final validation accuracy: 89.89%\n",
            "  Total epochs: 100\n"
          ]
        }
      ],
      "source": [
        "# Plot training history\n",
        "def plot_training_history(train_losses, train_accs, val_losses, val_accs):\n",
        "    fig, axes = plt.subplots(1, 2, figsize=(15, 5))\n",
        "    \n",
        "    # Plot loss\n",
        "    epochs = range(1, len(train_losses) + 1)\n",
        "    axes[0].plot(epochs, train_losses, 'bo-', label='Training Loss')\n",
        "    axes[0].plot(epochs, val_losses, 'ro-', label='Validation Loss')\n",
        "    axes[0].set_title('Model Loss')\n",
        "    axes[0].set_xlabel('Epoch')\n",
        "    axes[0].set_ylabel('Loss')\n",
        "    axes[0].legend()\n",
        "    axes[0].grid(True)\n",
        "    \n",
        "    # Plot accuracy\n",
        "    axes[1].plot(epochs, train_accs, 'bo-', label='Training Accuracy')\n",
        "    axes[1].plot(epochs, val_accs, 'ro-', label='Validation Accuracy')\n",
        "    axes[1].set_title('Model Accuracy')\n",
        "    axes[1].set_xlabel('Epoch')\n",
        "    axes[1].set_ylabel('Accuracy (%)')\n",
        "    axes[1].legend()\n",
        "    axes[1].grid(True)\n",
        "    \n",
        "    plt.tight_layout()\n",
        "    plt.show()\n",
        "    \n",
        "    print(f\"Training Summary:\")\n",
        "    print(f\"  Best validation accuracy: {max(val_accs):.2f}%\")\n",
        "    print(f\"  Final training accuracy: {train_accs[-1]:.2f}%\")\n",
        "    print(f\"  Final validation accuracy: {val_accs[-1]:.2f}%\")\n",
        "    print(f\"  Total epochs: {len(train_losses)}\")\n",
        "\n",
        "plot_training_history(train_losses, train_accs, val_losses, val_accs)\n"
      ]
    },
    {
      "cell_type": "code",
      "execution_count": 14,
      "metadata": {},
      "outputs": [
        {
          "name": "stdout",
          "output_type": "stream",
          "text": [
            "Evaluating on test set...\n"
          ]
        },
        {
          "name": "stderr",
          "output_type": "stream",
          "text": [
            "Testing: 100%|██████████| 3/3 [00:00<00:00, 17.15it/s]"
          ]
        },
        {
          "name": "stdout",
          "output_type": "stream",
          "text": [
            "\\nTest Results:\n",
            "  Test Accuracy: 93.33%\n",
            "\\nClassification Report:\n",
            "              precision    recall  f1-score   support\n",
            "\n",
            "     I Piece       1.00      1.00      1.00        14\n",
            "     J Piece       0.91      0.77      0.83        13\n",
            "     L Piece       0.80      0.92      0.86        13\n",
            "     O Piece       1.00      1.00      1.00        13\n",
            "     S Piece       0.91      0.91      0.91        11\n",
            "     T Piece       1.00      0.92      0.96        13\n",
            "     Z Piece       0.93      1.00      0.96        13\n",
            "\n",
            "    accuracy                           0.93        90\n",
            "   macro avg       0.94      0.93      0.93        90\n",
            "weighted avg       0.94      0.93      0.93        90\n",
            "\n"
          ]
        },
        {
          "name": "stderr",
          "output_type": "stream",
          "text": [
            "\n"
          ]
        },
        {
          "data": {
            "image/png": "[encoded data removed]",
            "text/plain": [
              "<Figure size 1000x800 with 2 Axes>"
            ]
          },
          "metadata": {},
          "output_type": "display_data"
        },
        {
          "name": "stdout",
          "output_type": "stream",
          "text": [
            "\\nPer-class Accuracy:\n",
            "  I Piece: 1.0000 (14/14)\n",
            "  J Piece: 0.7692 (10/13)\n",
            "  L Piece: 0.9231 (12/13)\n",
            "  O Piece: 1.0000 (13/13)\n",
            "  S Piece: 0.9091 (10/11)\n",
            "  T Piece: 0.9231 (12/13)\n",
            "  Z Piece: 1.0000 (13/13)\n"
          ]
        }
      ],
      "source": [
        "# Test evaluation\n",
        "def evaluate_model(model, test_loader, device):\n",
        "    model.eval()\n",
        "    all_predictions = []\n",
        "    all_labels = []\n",
        "    correct = 0\n",
        "    total = 0\n",
        "    \n",
        "    with torch.no_grad():\n",
        "        for images, labels in tqdm(test_loader, desc=\"Testing\"):\n",
        "            images, labels = images.to(device), labels.to(device)\n",
        "            outputs = model(images)\n",
        "            _, predicted = torch.max(outputs, 1)\n",
        "            \n",
        "            all_predictions.extend(predicted.cpu().numpy())\n",
        "            all_labels.extend(labels.cpu().numpy())\n",
        "            \n",
        "            total += labels.size(0)\n",
        "            correct += (predicted == labels).sum().item()\n",
        "    \n",
        "    accuracy = 100 * correct / total\n",
        "    return accuracy, all_predictions, all_labels\n",
        "\n",
        "print(\"Evaluating on test set...\")\n",
        "test_accuracy, test_predictions, test_labels = evaluate_model(model, test_loader, device)\n",
        "\n",
        "print(f\"\\\\nTest Results:\")\n",
        "print(f\"  Test Accuracy: {test_accuracy:.2f}%\")\n",
        "\n",
        "# Classification report\n",
        "class_names = [name.replace('_', ' ').title() for name in label_encoder.classes_]\n",
        "print(\"\\\\nClassification Report:\")\n",
        "print(classification_report(test_labels, test_predictions, target_names=class_names))\n",
        "\n",
        "# Confusion Matrix\n",
        "cm = confusion_matrix(test_labels, test_predictions)\n",
        "\n",
        "plt.figure(figsize=(10, 8))\n",
        "sns.heatmap(cm, annot=True, fmt='d', cmap='Blues', \n",
        "            xticklabels=class_names, yticklabels=class_names)\n",
        "plt.title('Confusion Matrix')\n",
        "plt.xlabel('Predicted Label')\n",
        "plt.ylabel('True Label')\n",
        "plt.xticks(rotation=45)\n",
        "plt.yticks(rotation=0)\n",
        "plt.tight_layout()\n",
        "plt.show()\n",
        "\n",
        "# Per-class accuracy\n",
        "per_class_accuracy = cm.diagonal() / cm.sum(axis=1)\n",
        "print(\"\\\\nPer-class Accuracy:\")\n",
        "for i, (class_name, acc) in enumerate(zip(class_names, per_class_accuracy)):\n",
        "    print(f\"  {class_name}: {acc:.4f} ({cm.diagonal()[i]}/{cm.sum(axis=1)[i]})\")\n"
      ]
    },
    {
      "cell_type": "code",
      "execution_count": 15,
      "metadata": {},
      "outputs": [
        {
          "name": "stdout",
          "output_type": "stream",
          "text": [
            "\n",
            "Model saved as 'tetris_classifier_pytorch.pth'\n",
            "\n",
            "Model package includes:\n",
            "  - Model state dict\n",
            "  - Label encoder\n",
            "  - Model configuration\n",
            "  - Performance metrics\n",
            "\n",
            "🎯 Final Results Summary:\n",
            "  ✅ Test Accuracy: 93.33%\n",
            "  ✅ Best Validation Accuracy: 93.26%\n",
            "  ✅ Total Parameters: 36,544,199\n",
            "  ✅ Training completed successfully!\n",
            "\n",
            "To use this model for inference:\n",
            "   model, label_encoder, config = load_trained_model('tetris_classifier_pytorch.pth', device)\n",
            "   # Then use model(image_tensor) for predictions\n"
          ]
        }
      ],
      "source": [
        "# Save final model and configuration\n",
        "torch.save({\n",
        "    'model_state_dict': model.state_dict(),\n",
        "    'num_classes': num_classes,\n",
        "    'label_encoder': label_encoder,\n",
        "    'test_accuracy': test_accuracy,\n",
        "    'best_val_accuracy': best_val_acc,\n",
        "    'model_architecture': 'TetrisCNN',\n",
        "    'image_size': IMAGE_SIZE,\n",
        "}, 'tetris_classifier_pytorch.pth')\n",
        "\n",
        "print(\"\\nModel saved as 'tetris_classifier_pytorch.pth'\")\n",
        "print(\"\\nModel package includes:\")\n",
        "print(\"  - Model state dict\")\n",
        "print(\"  - Label encoder\")\n",
        "print(\"  - Model configuration\")\n",
        "print(\"  - Performance metrics\")\n",
        "\n",
        "print(f\"\\n🎯 Final Results Summary:\")\n",
        "print(f\"  ✅ Test Accuracy: {test_accuracy:.2f}%\")\n",
        "print(f\"  ✅ Best Validation Accuracy: {best_val_acc:.2f}%\")\n",
        "print(f\"  ✅ Total Parameters: {count_parameters(model):,}\")\n",
        "print(f\"  ✅ Training completed successfully!\")\n",
        "\n",
        "# Function to load model for inference\n",
        "def load_trained_model(model_path, device):\n",
        "    \"\"\"Load a trained model for inference\"\"\"\n",
        "    checkpoint = torch.load(model_path, map_location=device)\n",
        "    \n",
        "    model = TetrisCNN(checkpoint['num_classes']).to(device)\n",
        "    model.load_state_dict(checkpoint['model_state_dict'])\n",
        "    model.eval()\n",
        "    \n",
        "    return model, checkpoint['label_encoder'], checkpoint\n",
        "\n",
        "print(\"\\nTo use this model for inference:\")\n",
        "print(\"   model, label_encoder, config = load_trained_model('tetris_classifier_pytorch.pth', device)\")\n",
        "print(\"   # Then use model(image_tensor) for predictions\")\n"
      ]
    },
    {
      "cell_type": "code",
      "execution_count": 18,
      "metadata": {},
      "outputs": [
        {
          "name": "stderr",
          "output_type": "stream",
          "text": [
            "C:\\Users\\Zachary\\AppData\\Local\\Temp\\ipykernel_23940\\2508494007.py:15: DeprecationWarning: You are using the legacy TorchScript-based ONNX export. Starting in PyTorch 2.9, the new torch.export-based ONNX exporter will be the default. To switch now, set dynamo=True in torch.onnx.export. This new exporter supports features like exporting LLMs with DynamicCache. We encourage you to try it and share feedback to help improve the experience. Learn more about the new export logic: https://pytorch.org/docs/stable/onnx_dynamo.html. For exporting control flow: https://pytorch.org/tutorials/beginner/onnx/export_control_flow_model_to_onnx_tutorial.html.\n",
            "  torch.onnx.export(\n"
          ]
        },
        {
          "name": "stdout",
          "output_type": "stream",
          "text": [
            "✅ Model successfully exported to ONNX format: tetris_classifier.onnx\n",
            "   Input shape: [batch_size, 1, 128, 128] (Grayscale)\n",
            "   Output shape: [batch_size, 7]\n",
            "   Model is ready for deployment with ONNX Runtime!\n"
          ]
        }
      ],
      "source": [
        "# Convert model to ONNX format for deployment\n",
        "import torch.onnx\n",
        "\n",
        "# The error indicates the model expects 1 channel input, not 3 channels\n",
        "# This suggests the model was trained on grayscale images, so we need to use 1 channel\n",
        "dummy_input = torch.randn(1, 1, IMAGE_SIZE, IMAGE_SIZE).to(device)\n",
        "\n",
        "# Set model to evaluation mode\n",
        "model.eval()\n",
        "\n",
        "# Export to ONNX\n",
        "onnx_path = 'tetris_classifier.onnx'\n",
        "\n",
        "try:\n",
        "    torch.onnx.export(\n",
        "        model,                          # model being run\n",
        "        dummy_input,                    # model input (or a tuple for multiple inputs)\n",
        "        onnx_path,                     # where to save the model\n",
        "        export_params=True,             # store the trained parameter weights inside the model file\n",
        "        opset_version=11,              # the ONNX version to export the model to\n",
        "        do_constant_folding=True,       # whether to execute constant folding for optimization\n",
        "        input_names=['input'],          # the model's input names\n",
        "        output_names=['output'],        # the model's output names\n",
        "        dynamic_axes={\n",
        "            'input': {0: 'batch_size'},    # variable length axes\n",
        "            'output': {0: 'batch_size'}\n",
        "        }\n",
        "    )\n",
        "    \n",
        "    print(f\"✅ Model successfully exported to ONNX format: {onnx_path}\")\n",
        "    print(f\"   Input shape: [batch_size, 1, {IMAGE_SIZE}, {IMAGE_SIZE}] (Grayscale)\")\n",
        "    print(f\"   Output shape: [batch_size, {num_classes}]\")\n",
        "    print(\"   Model is ready for deployment with ONNX Runtime!\")\n",
        "    \n",
        "except Exception as e:\n",
        "    print(f\"❌ Error exporting model to ONNX: {e}\")\n",
        "    print(\"   Make sure you have the required dependencies installed:\")\n",
        "    print(\"   pip install onnx onnxruntime\")\n"
      ]
    }
  ],
  "metadata": {
    "kernelspec": {
      "display_name": ".venv",
      "language": "python",
      "name": "python3"
    },
    "language_info": {
      "codemirror_mode": {
        "name": "ipython",
        "version": 3
      },
      "file_extension": ".py",
      "mimetype": "text/x-python",
      "name": "python",
      "nbconvert_exporter": "python",
      "pygments_lexer": "ipython3",
      "version": "3.13.4"
    }
  },
  "nbformat": 4,
  "nbformat_minor": 2
}
